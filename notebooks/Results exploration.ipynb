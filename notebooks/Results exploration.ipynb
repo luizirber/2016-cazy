{
 "cells": [
  {
   "cell_type": "markdown",
   "metadata": {
    "toc": "true"
   },
   "source": [
    "# Table of Contents\n",
    " <p><div class=\"lev2 toc-item\"><a href=\"#Setup\" data-toc-modified-id=\"Setup-0.1\"><span class=\"toc-item-num\">0.1&nbsp;&nbsp;</span>Setup</a></div><div class=\"lev3 toc-item\"><a href=\"#Python-libraries\" data-toc-modified-id=\"Python-libraries-0.1.1\"><span class=\"toc-item-num\">0.1.1&nbsp;&nbsp;</span>Python libraries</a></div><div class=\"lev3 toc-item\"><a href=\"#Constants\" data-toc-modified-id=\"Constants-0.1.2\"><span class=\"toc-item-num\">0.1.2&nbsp;&nbsp;</span>Constants</a></div><div class=\"lev2 toc-item\"><a href=\"#Preparing-the-data\" data-toc-modified-id=\"Preparing-the-data-0.2\"><span class=\"toc-item-num\">0.2&nbsp;&nbsp;</span>Preparing the data</a></div><div class=\"lev3 toc-item\"><a href=\"#Collecting-families\" data-toc-modified-id=\"Collecting-families-0.2.1\"><span class=\"toc-item-num\">0.2.1&nbsp;&nbsp;</span>Collecting families</a></div><div class=\"lev2 toc-item\"><a href=\"#Analysis-(all-samples)\" data-toc-modified-id=\"Analysis-(all-samples)-0.3\"><span class=\"toc-item-num\">0.3&nbsp;&nbsp;</span>Analysis (all samples)</a></div><div class=\"lev3 toc-item\"><a href=\"#Matches-per-family\" data-toc-modified-id=\"Matches-per-family-0.3.1\"><span class=\"toc-item-num\">0.3.1&nbsp;&nbsp;</span>Matches per family</a></div><div class=\"lev3 toc-item\"><a href=\"#Families-per-module\" data-toc-modified-id=\"Families-per-module-0.3.2\"><span class=\"toc-item-num\">0.3.2&nbsp;&nbsp;</span>Families per module</a></div><div class=\"lev3 toc-item\"><a href=\"#Matches-per-module\" data-toc-modified-id=\"Matches-per-module-0.3.3\"><span class=\"toc-item-num\">0.3.3&nbsp;&nbsp;</span>Matches per module</a></div><div class=\"lev3 toc-item\"><a href=\"#Cumulative-sum-for-families\" data-toc-modified-id=\"Cumulative-sum-for-families-0.3.4\"><span class=\"toc-item-num\">0.3.4&nbsp;&nbsp;</span>Cumulative sum for families</a></div><div class=\"lev3 toc-item\"><a href=\"#Filtering-families-with-more-than-1%-relative-abundance\" data-toc-modified-id=\"Filtering-families-with-more-than-1%-relative-abundance-0.3.5\"><span class=\"toc-item-num\">0.3.5&nbsp;&nbsp;</span>Filtering families with more than 1% relative abundance</a></div><div class=\"lev2 toc-item\"><a href=\"#Analysis-per-depth\" data-toc-modified-id=\"Analysis-per-depth-0.4\"><span class=\"toc-item-num\">0.4&nbsp;&nbsp;</span>Analysis per depth</a></div><div class=\"lev3 toc-item\"><a href=\"#Using-only-families-with-relative-abundance-&gt;1%-in-every-depth\" data-toc-modified-id=\"Using-only-families-with-relative-abundance->1%-in-every-depth-0.4.1\"><span class=\"toc-item-num\">0.4.1&nbsp;&nbsp;</span>Using only families with relative abundance &gt;1% in every depth</a></div><div class=\"lev3 toc-item\"><a href=\"#Using-families-with-relative-abundance-&gt;1%-in-any-depth\" data-toc-modified-id=\"Using-families-with-relative-abundance->1%-in-any-depth-0.4.2\"><span class=\"toc-item-num\">0.4.2&nbsp;&nbsp;</span>Using families with relative abundance &gt;1% in any depth</a></div>"
   ]
  },
  {
   "cell_type": "markdown",
   "metadata": {},
   "source": [
    "## Setup\n",
    "\n",
    "### Python libraries"
   ]
  },
  {
   "cell_type": "code",
   "execution_count": 1,
   "metadata": {
    "collapsed": false
   },
   "outputs": [],
   "source": [
    "%matplotlib inline\n",
    "import numpy as np\n",
    "import matplotlib.pyplot as plt\n",
    "import pandas as pd\n",
    "import seaborn as sns\n",
    "\n",
    "plt.style.use(\"fivethirtyeight\")\n",
    "\n",
    "from bisect import bisect\n",
    "from itertools import product"
   ]
  },
  {
   "cell_type": "markdown",
   "metadata": {},
   "source": [
    "### Constants\n",
    "\n",
    "We have three replicates for each depth (2, 6 and 15 cm)"
   ]
  },
  {
   "cell_type": "code",
   "execution_count": 2,
   "metadata": {
    "collapsed": true
   },
   "outputs": [],
   "source": [
    "REPLICATES = [1, 2 ,3]\n",
    "DEPTHS = [2, 6, 15]"
   ]
  },
  {
   "cell_type": "markdown",
   "metadata": {},
   "source": [
    "## Preparing the data\n",
    "\n",
    "### Collecting families\n",
    "\n",
    "The CAZy DB we used for alignment has IDs in this format: `ABN57689.1|GT4`,\n",
    "where `ABN57689.1` is the accession number for the organism where the protein was found\n",
    "and `GT4` is the family this protein belongs.\n",
    "We are interested in the families,\n",
    "so we start by extracting the family for each match and filtering matches for >60% identity.\n",
    "Families from each sample are accumulated in two Series, one for all samples and another grouped by depth.\n",
    "\n",
    "- TODO: Some query might have more than one match, limit to best match for more precise calculation"
   ]
  },
  {
   "cell_type": "code",
   "execution_count": 3,
   "metadata": {
    "collapsed": true
   },
   "outputs": [],
   "source": [
    "all_samples = None\n",
    "samples_per_depth = {\n",
    "  2: {},\n",
    "  6: {},\n",
    "  15: {}\n",
    "}"
   ]
  },
  {
   "cell_type": "code",
   "execution_count": 4,
   "metadata": {
    "collapsed": false,
    "scrolled": true
   },
   "outputs": [],
   "source": [
    "for rep, depth in product(REPLICATES, DEPTHS):\n",
    "    t = pd.read_table(\"../outputs/diamond/dbcan/{}-{}D.out.gz\".format(rep, depth),\n",
    "                      header=None,\n",
    "                      names=[\"query\", \"subject\", \"percent_id\",\n",
    "                             \"alignment_length\", \"mismatches\",\n",
    "                             \"gap_openings\", \"q_start\", \"q_end\",\n",
    "                             \"s_start\", \"s_end\", \"e_value\", \"bit_score\"])\n",
    "    families = t[t.percent_id > 60].subject.str.split('|').str.get(1)\n",
    "    \n",
    "    if all_samples is None:\n",
    "        all_samples = families\n",
    "    else:\n",
    "        all_samples = all_samples.append(families)\n",
    "\n",
    "    if 'families' in samples_per_depth[depth]:\n",
    "        samples_per_depth[depth]['families'] = samples_per_depth[depth]['families'].append(families)\n",
    "    else:\n",
    "        samples_per_depth[depth]['families'] = families"
   ]
  },
  {
   "cell_type": "code",
   "execution_count": 5,
   "metadata": {
    "collapsed": false,
    "scrolled": true
   },
   "outputs": [],
   "source": [
    "abundances_per_depth = {}\n",
    "\n",
    "for depth in DEPTHS:\n",
    "    counts = samples_per_depth[depth]['families'].value_counts()\n",
    "    most_common = counts[counts / samples_per_depth[depth]['families'].count() > .01]\n",
    "\n",
    "    abundances_per_depth[depth] = most_common / samples_per_depth[depth]['families'].count()"
   ]
  },
  {
   "cell_type": "markdown",
   "metadata": {},
   "source": [
    "## Analysis (all samples)"
   ]
  },
  {
   "cell_type": "markdown",
   "metadata": {},
   "source": [
    "### Matches per family\n",
    "\n",
    "There are 275 families in these samples,\n",
    "with each family having an average of 4468 matches in all samples."
   ]
  },
  {
   "cell_type": "code",
   "execution_count": 6,
   "metadata": {
    "collapsed": false,
    "scrolled": true
   },
   "outputs": [
    {
     "data": {
      "text/plain": [
       "count       275.000000\n",
       "mean       4468.785455\n",
       "std       15351.361642\n",
       "min           1.000000\n",
       "25%          22.000000\n",
       "50%         205.000000\n",
       "75%        2097.000000\n",
       "max      184546.000000\n",
       "Name: subject, dtype: float64"
      ]
     },
     "execution_count": 6,
     "metadata": {},
     "output_type": "execute_result"
    }
   ],
   "source": [
    "counts = all_samples.value_counts()\n",
    "counts.describe()"
   ]
  },
  {
   "cell_type": "markdown",
   "metadata": {},
   "source": [
    "The family with more matches is `GH13`."
   ]
  },
  {
   "cell_type": "code",
   "execution_count": 7,
   "metadata": {
    "collapsed": false,
    "scrolled": true
   },
   "outputs": [
    {
     "data": {
      "text/plain": [
       "GH13     184546\n",
       "GT35      85969\n",
       "CBM48     69274\n",
       "GT2       69055\n",
       "GT4       66086\n",
       "GH2       57156\n",
       "GH3       47404\n",
       "GH94      34164\n",
       "GH130     28600\n",
       "GH57      28304\n",
       "GT51      25288\n",
       "GH0       22424\n",
       "GH95      21383\n",
       "GH43      20014\n",
       "GH51      19561\n",
       "GH29      19059\n",
       "GH31      18056\n",
       "GH77      16984\n",
       "GH78      15401\n",
       "GH65      15003\n",
       "GH4       14975\n",
       "GH127     14032\n",
       "GH1       13273\n",
       "AA2       11688\n",
       "CE11      11458\n",
       "GH23      11195\n",
       "GT5       10653\n",
       "PL11      10241\n",
       "GH28       9784\n",
       "PL1        9692\n",
       "          ...  \n",
       "GH93          4\n",
       "CBM79         3\n",
       "CBM70         3\n",
       "CBM18         3\n",
       "CBM65         3\n",
       "GT18          3\n",
       "GT57          3\n",
       "GT21          3\n",
       "PL24          3\n",
       "GT77          2\n",
       "GT6           2\n",
       "GH66          2\n",
       "PL4           2\n",
       "GH71          2\n",
       "CBM58         2\n",
       "GT45          2\n",
       "PL20          2\n",
       "GT23          1\n",
       "GT62          1\n",
       "AA12          1\n",
       "CBM68         1\n",
       "AA8           1\n",
       "GH84          1\n",
       "GH135         1\n",
       "GH131         1\n",
       "GT93          1\n",
       "GT56          1\n",
       "GT94          1\n",
       "GT34          1\n",
       "AA11          1\n",
       "Name: subject, dtype: int64"
      ]
     },
     "execution_count": 7,
     "metadata": {},
     "output_type": "execute_result"
    }
   ],
   "source": [
    "counts"
   ]
  },
  {
   "cell_type": "markdown",
   "metadata": {},
   "source": [
    "### Families per module\n",
    "\n",
    "We can also check how many families per modules (a group of families) are present.\n",
    "`GH` families (Glycoside hydrolases) are by far the most common,\n",
    "composing ~40% of the families found."
   ]
  },
  {
   "cell_type": "code",
   "execution_count": 8,
   "metadata": {
    "collapsed": false
   },
   "outputs": [
    {
     "data": {
      "text/html": [
       "<div>\n",
       "<table border=\"1\" class=\"dataframe\">\n",
       "  <thead>\n",
       "    <tr style=\"text-align: right;\">\n",
       "      <th></th>\n",
       "      <th>Families per module</th>\n",
       "      <th>Percent of total families per module</th>\n",
       "    </tr>\n",
       "  </thead>\n",
       "  <tbody>\n",
       "    <tr>\n",
       "      <th>GH</th>\n",
       "      <td>108</td>\n",
       "      <td>0.392727</td>\n",
       "    </tr>\n",
       "    <tr>\n",
       "      <th>CBM</th>\n",
       "      <td>62</td>\n",
       "      <td>0.225455</td>\n",
       "    </tr>\n",
       "    <tr>\n",
       "      <th>GT</th>\n",
       "      <td>59</td>\n",
       "      <td>0.214545</td>\n",
       "    </tr>\n",
       "    <tr>\n",
       "      <th>PL</th>\n",
       "      <td>19</td>\n",
       "      <td>0.069091</td>\n",
       "    </tr>\n",
       "    <tr>\n",
       "      <th>CE</th>\n",
       "      <td>15</td>\n",
       "      <td>0.054545</td>\n",
       "    </tr>\n",
       "    <tr>\n",
       "      <th>AA</th>\n",
       "      <td>12</td>\n",
       "      <td>0.043636</td>\n",
       "    </tr>\n",
       "  </tbody>\n",
       "</table>\n",
       "</div>"
      ],
      "text/plain": [
       "     Families per module  Percent of total families per module\n",
       "GH                   108                              0.392727\n",
       "CBM                   62                              0.225455\n",
       "GT                    59                              0.214545\n",
       "PL                    19                              0.069091\n",
       "CE                    15                              0.054545\n",
       "AA                    12                              0.043636"
      ]
     },
     "execution_count": 8,
     "metadata": {},
     "output_type": "execute_result"
    }
   ],
   "source": [
    "# Quick hack to remove the family numbers from the Series.\n",
    "# We replace each character 0-9 with an empty space.\n",
    "delete_ch = dict.fromkeys(range(ord('0'), ord('9') + 1), \"\")\n",
    "\n",
    "modules = counts.index.str.translate(delete_ch).value_counts()\n",
    "pd.DataFrame({'Families per module': modules,\n",
    "              'Percent of total families per module': modules / modules.sum()})"
   ]
  },
  {
   "cell_type": "markdown",
   "metadata": {},
   "source": [
    "### Matches per module\n",
    "\n",
    "If we calculate how many matches are in each module,\n",
    "we can see that `GH` families represent ~60% of the total matches."
   ]
  },
  {
   "cell_type": "code",
   "execution_count": 9,
   "metadata": {
    "collapsed": false
   },
   "outputs": [
    {
     "data": {
      "text/html": [
       "<div>\n",
       "<table border=\"1\" class=\"dataframe\">\n",
       "  <thead>\n",
       "    <tr style=\"text-align: right;\">\n",
       "      <th></th>\n",
       "      <th>Matches per module</th>\n",
       "      <th>Percent of total matches per module</th>\n",
       "    </tr>\n",
       "  </thead>\n",
       "  <tbody>\n",
       "    <tr>\n",
       "      <th>GH</th>\n",
       "      <td>733721</td>\n",
       "      <td>0.597047</td>\n",
       "    </tr>\n",
       "    <tr>\n",
       "      <th>GT</th>\n",
       "      <td>303319</td>\n",
       "      <td>0.246818</td>\n",
       "    </tr>\n",
       "    <tr>\n",
       "      <th>CBM</th>\n",
       "      <td>113802</td>\n",
       "      <td>0.092604</td>\n",
       "    </tr>\n",
       "    <tr>\n",
       "      <th>CE</th>\n",
       "      <td>27460</td>\n",
       "      <td>0.022345</td>\n",
       "    </tr>\n",
       "    <tr>\n",
       "      <th>AA</th>\n",
       "      <td>27403</td>\n",
       "      <td>0.022299</td>\n",
       "    </tr>\n",
       "    <tr>\n",
       "      <th>PL</th>\n",
       "      <td>23211</td>\n",
       "      <td>0.018887</td>\n",
       "    </tr>\n",
       "  </tbody>\n",
       "</table>\n",
       "</div>"
      ],
      "text/plain": [
       "     Matches per module  Percent of total matches per module\n",
       "GH               733721                             0.597047\n",
       "GT               303319                             0.246818\n",
       "CBM              113802                             0.092604\n",
       "CE                27460                             0.022345\n",
       "AA                27403                             0.022299\n",
       "PL                23211                             0.018887"
      ]
     },
     "execution_count": 9,
     "metadata": {},
     "output_type": "execute_result"
    }
   ],
   "source": [
    "modules = all_samples.apply(lambda x: x.translate(delete_ch)).value_counts()\n",
    "pd.DataFrame({'Matches per module': modules,\n",
    "              'Percent of total matches per module': modules / modules.sum()})"
   ]
  },
  {
   "cell_type": "markdown",
   "metadata": {},
   "source": [
    "### Cumulative sum for families\n",
    "\n",
    "From plotting we can see a few families compose most of the samples.\n",
    "The cumulative sum gets close to 90% with ~50 families."
   ]
  },
  {
   "cell_type": "code",
   "execution_count": 10,
   "metadata": {
    "collapsed": false
   },
   "outputs": [
    {
     "data": {
      "text/plain": [
       "<matplotlib.legend.Legend at 0x7ff19d73c240>"
      ]
     },
     "execution_count": 10,
     "metadata": {},
     "output_type": "execute_result"
    },
    {
     "data": {
      "image/png": "[encoded data removed]",
      "text/plain": [
       "<matplotlib.figure.Figure at 0x7ff19d73c198>"
      ]
     },
     "metadata": {},
     "output_type": "display_data"
    }
   ],
   "source": [
    "cumsum = pd.DataFrame(data={\n",
    "                      'Counts (relative)': counts, \n",
    "                      'Cumulative (relative)': counts.cumsum() / counts.sum()\n",
    "                    })\n",
    "axes = cumsum.plot.bar(subplots=True,\n",
    "                       figsize=(12, 12))\n",
    "for ax in axes:\n",
    "    ax.tick_params(axis='x', which='major', labelsize=4)\n",
    "    \n",
    "axes[1].axvline(bisect(cumsum['Cumulative (relative)'], .9),\n",
    "                label=\"90%\")\n",
    "axes[1].legend(loc='best')"
   ]
  },
  {
   "cell_type": "markdown",
   "metadata": {},
   "source": [
    "### Filtering families with more than 1% relative abundance"
   ]
  },
  {
   "cell_type": "code",
   "execution_count": 11,
   "metadata": {
    "collapsed": false
   },
   "outputs": [
    {
     "data": {
      "text/plain": [
       "GH13     184546\n",
       "GT35      85969\n",
       "CBM48     69274\n",
       "GT2       69055\n",
       "GT4       66086\n",
       "GH2       57156\n",
       "GH3       47404\n",
       "GH94      34164\n",
       "GH130     28600\n",
       "GH57      28304\n",
       "GT51      25288\n",
       "GH0       22424\n",
       "GH95      21383\n",
       "GH43      20014\n",
       "GH51      19561\n",
       "GH29      19059\n",
       "GH31      18056\n",
       "GH77      16984\n",
       "GH78      15401\n",
       "GH65      15003\n",
       "GH4       14975\n",
       "GH127     14032\n",
       "GH1       13273\n",
       "Name: subject, dtype: int64"
      ]
     },
     "execution_count": 11,
     "metadata": {},
     "output_type": "execute_result"
    }
   ],
   "source": [
    "most_abundant = counts[(counts / counts.sum()) > .01]\n",
    "most_abundant"
   ]
  },
  {
   "cell_type": "code",
   "execution_count": 12,
   "metadata": {
    "collapsed": false
   },
   "outputs": [
    {
     "data": {
      "text/plain": [
       "23"
      ]
     },
     "execution_count": 12,
     "metadata": {},
     "output_type": "execute_result"
    }
   ],
   "source": [
    "len(most_abundant)"
   ]
  },
  {
   "cell_type": "code",
   "execution_count": 13,
   "metadata": {
    "collapsed": false
   },
   "outputs": [
    {
     "data": {
      "text/html": [
       "<div>\n",
       "<table border=\"1\" class=\"dataframe\">\n",
       "  <thead>\n",
       "    <tr style=\"text-align: right;\">\n",
       "      <th></th>\n",
       "      <th>Most abundant (absolute)</th>\n",
       "      <th>Most abundant (relative)</th>\n",
       "    </tr>\n",
       "  </thead>\n",
       "  <tbody>\n",
       "    <tr>\n",
       "      <th>GH13</th>\n",
       "      <td>184546</td>\n",
       "      <td>0.150170</td>\n",
       "    </tr>\n",
       "    <tr>\n",
       "      <th>GT35</th>\n",
       "      <td>85969</td>\n",
       "      <td>0.069955</td>\n",
       "    </tr>\n",
       "    <tr>\n",
       "      <th>CBM48</th>\n",
       "      <td>69274</td>\n",
       "      <td>0.056370</td>\n",
       "    </tr>\n",
       "    <tr>\n",
       "      <th>GT2</th>\n",
       "      <td>69055</td>\n",
       "      <td>0.056192</td>\n",
       "    </tr>\n",
       "    <tr>\n",
       "      <th>GT4</th>\n",
       "      <td>66086</td>\n",
       "      <td>0.053776</td>\n",
       "    </tr>\n",
       "    <tr>\n",
       "      <th>GH2</th>\n",
       "      <td>57156</td>\n",
       "      <td>0.046509</td>\n",
       "    </tr>\n",
       "    <tr>\n",
       "      <th>GH3</th>\n",
       "      <td>47404</td>\n",
       "      <td>0.038574</td>\n",
       "    </tr>\n",
       "    <tr>\n",
       "      <th>GH94</th>\n",
       "      <td>34164</td>\n",
       "      <td>0.027800</td>\n",
       "    </tr>\n",
       "    <tr>\n",
       "      <th>GH130</th>\n",
       "      <td>28600</td>\n",
       "      <td>0.023273</td>\n",
       "    </tr>\n",
       "    <tr>\n",
       "      <th>GH57</th>\n",
       "      <td>28304</td>\n",
       "      <td>0.023032</td>\n",
       "    </tr>\n",
       "    <tr>\n",
       "      <th>GT51</th>\n",
       "      <td>25288</td>\n",
       "      <td>0.020577</td>\n",
       "    </tr>\n",
       "    <tr>\n",
       "      <th>GH0</th>\n",
       "      <td>22424</td>\n",
       "      <td>0.018247</td>\n",
       "    </tr>\n",
       "    <tr>\n",
       "      <th>GH95</th>\n",
       "      <td>21383</td>\n",
       "      <td>0.017400</td>\n",
       "    </tr>\n",
       "    <tr>\n",
       "      <th>GH43</th>\n",
       "      <td>20014</td>\n",
       "      <td>0.016286</td>\n",
       "    </tr>\n",
       "    <tr>\n",
       "      <th>GH51</th>\n",
       "      <td>19561</td>\n",
       "      <td>0.015917</td>\n",
       "    </tr>\n",
       "    <tr>\n",
       "      <th>GH29</th>\n",
       "      <td>19059</td>\n",
       "      <td>0.015509</td>\n",
       "    </tr>\n",
       "    <tr>\n",
       "      <th>GH31</th>\n",
       "      <td>18056</td>\n",
       "      <td>0.014693</td>\n",
       "    </tr>\n",
       "    <tr>\n",
       "      <th>GH77</th>\n",
       "      <td>16984</td>\n",
       "      <td>0.013820</td>\n",
       "    </tr>\n",
       "    <tr>\n",
       "      <th>GH78</th>\n",
       "      <td>15401</td>\n",
       "      <td>0.012532</td>\n",
       "    </tr>\n",
       "    <tr>\n",
       "      <th>GH65</th>\n",
       "      <td>15003</td>\n",
       "      <td>0.012208</td>\n",
       "    </tr>\n",
       "    <tr>\n",
       "      <th>GH4</th>\n",
       "      <td>14975</td>\n",
       "      <td>0.012186</td>\n",
       "    </tr>\n",
       "    <tr>\n",
       "      <th>GH127</th>\n",
       "      <td>14032</td>\n",
       "      <td>0.011418</td>\n",
       "    </tr>\n",
       "    <tr>\n",
       "      <th>GH1</th>\n",
       "      <td>13273</td>\n",
       "      <td>0.010801</td>\n",
       "    </tr>\n",
       "  </tbody>\n",
       "</table>\n",
       "</div>"
      ],
      "text/plain": [
       "       Most abundant (absolute)  Most abundant (relative)\n",
       "GH13                     184546                  0.150170\n",
       "GT35                      85969                  0.069955\n",
       "CBM48                     69274                  0.056370\n",
       "GT2                       69055                  0.056192\n",
       "GT4                       66086                  0.053776\n",
       "GH2                       57156                  0.046509\n",
       "GH3                       47404                  0.038574\n",
       "GH94                      34164                  0.027800\n",
       "GH130                     28600                  0.023273\n",
       "GH57                      28304                  0.023032\n",
       "GT51                      25288                  0.020577\n",
       "GH0                       22424                  0.018247\n",
       "GH95                      21383                  0.017400\n",
       "GH43                      20014                  0.016286\n",
       "GH51                      19561                  0.015917\n",
       "GH29                      19059                  0.015509\n",
       "GH31                      18056                  0.014693\n",
       "GH77                      16984                  0.013820\n",
       "GH78                      15401                  0.012532\n",
       "GH65                      15003                  0.012208\n",
       "GH4                       14975                  0.012186\n",
       "GH127                     14032                  0.011418\n",
       "GH1                       13273                  0.010801"
      ]
     },
     "execution_count": 13,
     "metadata": {},
     "output_type": "execute_result"
    }
   ],
   "source": [
    "abundances = pd.DataFrame({\n",
    "        \"Most abundant (absolute)\": most_abundant,\n",
    "        \"Most abundant (relative)\": most_abundant / counts.sum()})\n",
    "abundances"
   ]
  },
  {
   "cell_type": "markdown",
   "metadata": {},
   "source": [
    "The 23 families with more than 1% relative abundance account for 72% of the matches:"
   ]
  },
  {
   "cell_type": "code",
   "execution_count": 14,
   "metadata": {
    "collapsed": false
   },
   "outputs": [
    {
     "data": {
      "text/plain": [
       "(0.73724404271732158, 23)"
      ]
     },
     "execution_count": 14,
     "metadata": {},
     "output_type": "execute_result"
    }
   ],
   "source": [
    "abundances['Most abundant (relative)'].sum(), len(abundances)"
   ]
  },
  {
   "cell_type": "code",
   "execution_count": 15,
   "metadata": {
    "collapsed": false
   },
   "outputs": [
    {
     "data": {
      "text/plain": [
       "<matplotlib.text.Text at 0x7ff19c6abe10>"
      ]
     },
     "execution_count": 15,
     "metadata": {},
     "output_type": "execute_result"
    },
    {
     "data": {
      "image/png": "[encoded data removed]",
      "text/plain": [
       "<matplotlib.figure.Figure at 0x7ff198ca5860>"
      ]
     },
     "metadata": {},
     "output_type": "display_data"
    }
   ],
   "source": [
    "ax = abundances['Most abundant (relative)'].plot.bar()\n",
    "ax.set_ylabel(\"Relative abundance\")\n",
    "ax.set_xlabel(\"Families\")\n",
    "ax.set_title(\"Families with > 1% relative abundance\")"
   ]
  },
  {
   "cell_type": "markdown",
   "metadata": {},
   "source": [
    "## Analysis per depth"
   ]
  },
  {
   "cell_type": "code",
   "execution_count": 16,
   "metadata": {
    "collapsed": false
   },
   "outputs": [],
   "source": [
    "abundance = pd.DataFrame(abundances_per_depth)\n",
    "abundance.sort_values(by=2, ascending=False, inplace=True)"
   ]
  },
  {
   "cell_type": "code",
   "execution_count": 17,
   "metadata": {
    "collapsed": false
   },
   "outputs": [
    {
     "data": {
      "text/plain": [
       "<matplotlib.legend.Legend at 0x7ff196421a58>"
      ]
     },
     "execution_count": 17,
     "metadata": {},
     "output_type": "execute_result"
    },
    {
     "data": {
      "image/png": "[encoded data removed]",
      "text/plain": [
       "<matplotlib.figure.Figure at 0x7ff1964c85c0>"
      ]
     },
     "metadata": {},
     "output_type": "display_data"
    }
   ],
   "source": [
    "ax = abundance.plot.bar()\n",
    "ax.set_ylabel(\"Relative abundance\")\n",
    "ax.set_xlabel(\"Families\")\n",
    "ax.legend(loc='best', title=\"Depth\")"
   ]
  },
  {
   "cell_type": "markdown",
   "metadata": {},
   "source": [
    "Some families are abundant in some families but not in others (see families to the right),\n",
    "so we have two approaches: \n",
    "  - Only use families with relative abundance > 1% in every depth,\n",
    "  - select all families with relative abundance > 1% in any depth, even if it is less than that in other depths."
   ]
  },
  {
   "cell_type": "code",
   "execution_count": 18,
   "metadata": {
    "collapsed": false
   },
   "outputs": [
    {
     "data": {
      "text/html": [
       "<div>\n",
       "<table border=\"1\" class=\"dataframe\">\n",
       "  <thead>\n",
       "    <tr style=\"text-align: right;\">\n",
       "      <th></th>\n",
       "      <th>2</th>\n",
       "      <th>6</th>\n",
       "      <th>15</th>\n",
       "    </tr>\n",
       "  </thead>\n",
       "  <tbody>\n",
       "    <tr>\n",
       "      <th>GH13</th>\n",
       "      <td>0.123909</td>\n",
       "      <td>0.155231</td>\n",
       "      <td>0.172981</td>\n",
       "    </tr>\n",
       "    <tr>\n",
       "      <th>GT35</th>\n",
       "      <td>0.070255</td>\n",
       "      <td>0.055459</td>\n",
       "      <td>0.073539</td>\n",
       "    </tr>\n",
       "    <tr>\n",
       "      <th>GT2</th>\n",
       "      <td>0.060836</td>\n",
       "      <td>0.056628</td>\n",
       "      <td>0.051804</td>\n",
       "    </tr>\n",
       "    <tr>\n",
       "      <th>CBM48</th>\n",
       "      <td>0.056802</td>\n",
       "      <td>0.052278</td>\n",
       "      <td>0.057062</td>\n",
       "    </tr>\n",
       "    <tr>\n",
       "      <th>GH2</th>\n",
       "      <td>0.045872</td>\n",
       "      <td>0.043465</td>\n",
       "      <td>0.047906</td>\n",
       "    </tr>\n",
       "    <tr>\n",
       "      <th>GT4</th>\n",
       "      <td>0.045855</td>\n",
       "      <td>0.051296</td>\n",
       "      <td>0.061723</td>\n",
       "    </tr>\n",
       "    <tr>\n",
       "      <th>GH3</th>\n",
       "      <td>0.038930</td>\n",
       "      <td>0.045703</td>\n",
       "      <td>0.036348</td>\n",
       "    </tr>\n",
       "    <tr>\n",
       "      <th>GT51</th>\n",
       "      <td>0.026427</td>\n",
       "      <td>0.016083</td>\n",
       "      <td>0.016393</td>\n",
       "    </tr>\n",
       "    <tr>\n",
       "      <th>GH94</th>\n",
       "      <td>0.024974</td>\n",
       "      <td>0.031177</td>\n",
       "      <td>0.029501</td>\n",
       "    </tr>\n",
       "    <tr>\n",
       "      <th>GH0</th>\n",
       "      <td>0.023839</td>\n",
       "      <td>0.016771</td>\n",
       "      <td>0.013495</td>\n",
       "    </tr>\n",
       "    <tr>\n",
       "      <th>GH43</th>\n",
       "      <td>0.021536</td>\n",
       "      <td>0.011646</td>\n",
       "      <td>0.012691</td>\n",
       "    </tr>\n",
       "    <tr>\n",
       "      <th>GH130</th>\n",
       "      <td>0.020329</td>\n",
       "      <td>0.025772</td>\n",
       "      <td>0.025315</td>\n",
       "    </tr>\n",
       "    <tr>\n",
       "      <th>GH95</th>\n",
       "      <td>0.019316</td>\n",
       "      <td>0.021255</td>\n",
       "      <td>0.014611</td>\n",
       "    </tr>\n",
       "    <tr>\n",
       "      <th>GH29</th>\n",
       "      <td>0.017027</td>\n",
       "      <td>0.022878</td>\n",
       "      <td>0.012150</td>\n",
       "    </tr>\n",
       "    <tr>\n",
       "      <th>GH51</th>\n",
       "      <td>0.016659</td>\n",
       "      <td>0.022999</td>\n",
       "      <td>0.013349</td>\n",
       "    </tr>\n",
       "    <tr>\n",
       "      <th>GH31</th>\n",
       "      <td>0.016327</td>\n",
       "      <td>0.013056</td>\n",
       "      <td>0.013625</td>\n",
       "    </tr>\n",
       "    <tr>\n",
       "      <th>GH78</th>\n",
       "      <td>0.016155</td>\n",
       "      <td>0.011152</td>\n",
       "      <td>NaN</td>\n",
       "    </tr>\n",
       "    <tr>\n",
       "      <th>GH57</th>\n",
       "      <td>0.013666</td>\n",
       "      <td>0.023333</td>\n",
       "      <td>0.031568</td>\n",
       "    </tr>\n",
       "    <tr>\n",
       "      <th>GH77</th>\n",
       "      <td>0.013010</td>\n",
       "      <td>0.013918</td>\n",
       "      <td>0.014539</td>\n",
       "    </tr>\n",
       "    <tr>\n",
       "      <th>GH65</th>\n",
       "      <td>0.012384</td>\n",
       "      <td>0.012395</td>\n",
       "      <td>0.011997</td>\n",
       "    </tr>\n",
       "    <tr>\n",
       "      <th>GH23</th>\n",
       "      <td>0.011912</td>\n",
       "      <td>NaN</td>\n",
       "      <td>NaN</td>\n",
       "    </tr>\n",
       "    <tr>\n",
       "      <th>CE11</th>\n",
       "      <td>0.011514</td>\n",
       "      <td>NaN</td>\n",
       "      <td>NaN</td>\n",
       "    </tr>\n",
       "    <tr>\n",
       "      <th>GH127</th>\n",
       "      <td>0.010926</td>\n",
       "      <td>0.012288</td>\n",
       "      <td>0.011640</td>\n",
       "    </tr>\n",
       "    <tr>\n",
       "      <th>GH4</th>\n",
       "      <td>0.010703</td>\n",
       "      <td>0.016504</td>\n",
       "      <td>0.012399</td>\n",
       "    </tr>\n",
       "    <tr>\n",
       "      <th>AA2</th>\n",
       "      <td>NaN</td>\n",
       "      <td>0.010524</td>\n",
       "      <td>0.010339</td>\n",
       "    </tr>\n",
       "    <tr>\n",
       "      <th>CBM6</th>\n",
       "      <td>NaN</td>\n",
       "      <td>0.014413</td>\n",
       "      <td>NaN</td>\n",
       "    </tr>\n",
       "    <tr>\n",
       "      <th>GH1</th>\n",
       "      <td>NaN</td>\n",
       "      <td>0.013911</td>\n",
       "      <td>0.013753</td>\n",
       "    </tr>\n",
       "    <tr>\n",
       "      <th>GH15</th>\n",
       "      <td>NaN</td>\n",
       "      <td>NaN</td>\n",
       "      <td>0.011373</td>\n",
       "    </tr>\n",
       "    <tr>\n",
       "      <th>GT5</th>\n",
       "      <td>NaN</td>\n",
       "      <td>0.010738</td>\n",
       "      <td>NaN</td>\n",
       "    </tr>\n",
       "    <tr>\n",
       "      <th>PL11</th>\n",
       "      <td>NaN</td>\n",
       "      <td>0.010965</td>\n",
       "      <td>NaN</td>\n",
       "    </tr>\n",
       "  </tbody>\n",
       "</table>\n",
       "</div>"
      ],
      "text/plain": [
       "             2         6         15\n",
       "GH13   0.123909  0.155231  0.172981\n",
       "GT35   0.070255  0.055459  0.073539\n",
       "GT2    0.060836  0.056628  0.051804\n",
       "CBM48  0.056802  0.052278  0.057062\n",
       "GH2    0.045872  0.043465  0.047906\n",
       "GT4    0.045855  0.051296  0.061723\n",
       "GH3    0.038930  0.045703  0.036348\n",
       "GT51   0.026427  0.016083  0.016393\n",
       "GH94   0.024974  0.031177  0.029501\n",
       "GH0    0.023839  0.016771  0.013495\n",
       "GH43   0.021536  0.011646  0.012691\n",
       "GH130  0.020329  0.025772  0.025315\n",
       "GH95   0.019316  0.021255  0.014611\n",
       "GH29   0.017027  0.022878  0.012150\n",
       "GH51   0.016659  0.022999  0.013349\n",
       "GH31   0.016327  0.013056  0.013625\n",
       "GH78   0.016155  0.011152       NaN\n",
       "GH57   0.013666  0.023333  0.031568\n",
       "GH77   0.013010  0.013918  0.014539\n",
       "GH65   0.012384  0.012395  0.011997\n",
       "GH23   0.011912       NaN       NaN\n",
       "CE11   0.011514       NaN       NaN\n",
       "GH127  0.010926  0.012288  0.011640\n",
       "GH4    0.010703  0.016504  0.012399\n",
       "AA2         NaN  0.010524  0.010339\n",
       "CBM6        NaN  0.014413       NaN\n",
       "GH1         NaN  0.013911  0.013753\n",
       "GH15        NaN       NaN  0.011373\n",
       "GT5         NaN  0.010738       NaN\n",
       "PL11        NaN  0.010965       NaN"
      ]
     },
     "execution_count": 18,
     "metadata": {},
     "output_type": "execute_result"
    }
   ],
   "source": [
    "abundance"
   ]
  },
  {
   "cell_type": "code",
   "execution_count": 19,
   "metadata": {
    "collapsed": false
   },
   "outputs": [
    {
     "data": {
      "text/plain": [
       "2     0.729161\n",
       "6     0.791836\n",
       "15    0.770102\n",
       "dtype: float64"
      ]
     },
     "execution_count": 19,
     "metadata": {},
     "output_type": "execute_result"
    }
   ],
   "source": [
    "abundance.sum()"
   ]
  },
  {
   "cell_type": "code",
   "execution_count": 20,
   "metadata": {
    "collapsed": false
   },
   "outputs": [
    {
     "name": "stderr",
     "output_type": "stream",
     "text": [
      "/home/chick/.virtualenvs/cazy/lib/python3.4/site-packages/numpy/lib/function_base.py:3834: RuntimeWarning: Invalid value encountered in percentile\n",
      "  RuntimeWarning)\n"
     ]
    },
    {
     "data": {
      "text/html": [
       "<div>\n",
       "<table border=\"1\" class=\"dataframe\">\n",
       "  <thead>\n",
       "    <tr style=\"text-align: right;\">\n",
       "      <th></th>\n",
       "      <th>2</th>\n",
       "      <th>6</th>\n",
       "      <th>15</th>\n",
       "    </tr>\n",
       "  </thead>\n",
       "  <tbody>\n",
       "    <tr>\n",
       "      <th>count</th>\n",
       "      <td>24.000000</td>\n",
       "      <td>27.000000</td>\n",
       "      <td>24.000000</td>\n",
       "    </tr>\n",
       "    <tr>\n",
       "      <th>mean</th>\n",
       "      <td>0.030382</td>\n",
       "      <td>0.029327</td>\n",
       "      <td>0.032088</td>\n",
       "    </tr>\n",
       "    <tr>\n",
       "      <th>std</th>\n",
       "      <td>0.026407</td>\n",
       "      <td>0.029530</td>\n",
       "      <td>0.035447</td>\n",
       "    </tr>\n",
       "    <tr>\n",
       "      <th>min</th>\n",
       "      <td>0.010703</td>\n",
       "      <td>0.010524</td>\n",
       "      <td>0.010339</td>\n",
       "    </tr>\n",
       "    <tr>\n",
       "      <th>25%</th>\n",
       "      <td>NaN</td>\n",
       "      <td>NaN</td>\n",
       "      <td>NaN</td>\n",
       "    </tr>\n",
       "    <tr>\n",
       "      <th>50%</th>\n",
       "      <td>NaN</td>\n",
       "      <td>NaN</td>\n",
       "      <td>NaN</td>\n",
       "    </tr>\n",
       "    <tr>\n",
       "      <th>75%</th>\n",
       "      <td>NaN</td>\n",
       "      <td>NaN</td>\n",
       "      <td>NaN</td>\n",
       "    </tr>\n",
       "    <tr>\n",
       "      <th>max</th>\n",
       "      <td>0.123909</td>\n",
       "      <td>0.155231</td>\n",
       "      <td>0.172981</td>\n",
       "    </tr>\n",
       "  </tbody>\n",
       "</table>\n",
       "</div>"
      ],
      "text/plain": [
       "              2          6          15\n",
       "count  24.000000  27.000000  24.000000\n",
       "mean    0.030382   0.029327   0.032088\n",
       "std     0.026407   0.029530   0.035447\n",
       "min     0.010703   0.010524   0.010339\n",
       "25%          NaN        NaN        NaN\n",
       "50%          NaN        NaN        NaN\n",
       "75%          NaN        NaN        NaN\n",
       "max     0.123909   0.155231   0.172981"
      ]
     },
     "execution_count": 20,
     "metadata": {},
     "output_type": "execute_result"
    }
   ],
   "source": [
    "abundance.describe()"
   ]
  },
  {
   "cell_type": "markdown",
   "metadata": {},
   "source": [
    "### Using only families with relative abundance >1% in every depth\n",
    "\n",
    "In this case, we drop any family containing `NaN` (not a number) in our abundance dataframe."
   ]
  },
  {
   "cell_type": "code",
   "execution_count": 21,
   "metadata": {
    "collapsed": false
   },
   "outputs": [
    {
     "data": {
      "text/plain": [
       "<matplotlib.legend.Legend at 0x7ff19654ae80>"
      ]
     },
     "execution_count": 21,
     "metadata": {},
     "output_type": "execute_result"
    },
    {
     "data": {
      "image/png": "[encoded data removed]",
      "text/plain": [
       "<matplotlib.figure.Figure at 0x7ff19654aa58>"
      ]
     },
     "metadata": {},
     "output_type": "display_data"
    }
   ],
   "source": [
    "ax = abundance.dropna().plot.bar(width=.75)\n",
    "ax.set_ylabel(\"Relative abundance\")\n",
    "ax.set_xlabel(\"Families\")\n",
    "ax.legend(loc='best', title=\"Depth\")"
   ]
  },
  {
   "cell_type": "code",
   "execution_count": 22,
   "metadata": {
    "collapsed": false
   },
   "outputs": [
    {
     "data": {
      "text/html": [
       "<div>\n",
       "<table border=\"1\" class=\"dataframe\">\n",
       "  <thead>\n",
       "    <tr style=\"text-align: right;\">\n",
       "      <th></th>\n",
       "      <th>2</th>\n",
       "      <th>6</th>\n",
       "      <th>15</th>\n",
       "    </tr>\n",
       "  </thead>\n",
       "  <tbody>\n",
       "    <tr>\n",
       "      <th>GH13</th>\n",
       "      <td>0.123909</td>\n",
       "      <td>0.155231</td>\n",
       "      <td>0.172981</td>\n",
       "    </tr>\n",
       "    <tr>\n",
       "      <th>GT35</th>\n",
       "      <td>0.070255</td>\n",
       "      <td>0.055459</td>\n",
       "      <td>0.073539</td>\n",
       "    </tr>\n",
       "    <tr>\n",
       "      <th>GT2</th>\n",
       "      <td>0.060836</td>\n",
       "      <td>0.056628</td>\n",
       "      <td>0.051804</td>\n",
       "    </tr>\n",
       "    <tr>\n",
       "      <th>CBM48</th>\n",
       "      <td>0.056802</td>\n",
       "      <td>0.052278</td>\n",
       "      <td>0.057062</td>\n",
       "    </tr>\n",
       "    <tr>\n",
       "      <th>GH2</th>\n",
       "      <td>0.045872</td>\n",
       "      <td>0.043465</td>\n",
       "      <td>0.047906</td>\n",
       "    </tr>\n",
       "    <tr>\n",
       "      <th>GT4</th>\n",
       "      <td>0.045855</td>\n",
       "      <td>0.051296</td>\n",
       "      <td>0.061723</td>\n",
       "    </tr>\n",
       "    <tr>\n",
       "      <th>GH3</th>\n",
       "      <td>0.038930</td>\n",
       "      <td>0.045703</td>\n",
       "      <td>0.036348</td>\n",
       "    </tr>\n",
       "    <tr>\n",
       "      <th>GT51</th>\n",
       "      <td>0.026427</td>\n",
       "      <td>0.016083</td>\n",
       "      <td>0.016393</td>\n",
       "    </tr>\n",
       "    <tr>\n",
       "      <th>GH94</th>\n",
       "      <td>0.024974</td>\n",
       "      <td>0.031177</td>\n",
       "      <td>0.029501</td>\n",
       "    </tr>\n",
       "    <tr>\n",
       "      <th>GH0</th>\n",
       "      <td>0.023839</td>\n",
       "      <td>0.016771</td>\n",
       "      <td>0.013495</td>\n",
       "    </tr>\n",
       "    <tr>\n",
       "      <th>GH43</th>\n",
       "      <td>0.021536</td>\n",
       "      <td>0.011646</td>\n",
       "      <td>0.012691</td>\n",
       "    </tr>\n",
       "    <tr>\n",
       "      <th>GH130</th>\n",
       "      <td>0.020329</td>\n",
       "      <td>0.025772</td>\n",
       "      <td>0.025315</td>\n",
       "    </tr>\n",
       "    <tr>\n",
       "      <th>GH95</th>\n",
       "      <td>0.019316</td>\n",
       "      <td>0.021255</td>\n",
       "      <td>0.014611</td>\n",
       "    </tr>\n",
       "    <tr>\n",
       "      <th>GH29</th>\n",
       "      <td>0.017027</td>\n",
       "      <td>0.022878</td>\n",
       "      <td>0.012150</td>\n",
       "    </tr>\n",
       "    <tr>\n",
       "      <th>GH51</th>\n",
       "      <td>0.016659</td>\n",
       "      <td>0.022999</td>\n",
       "      <td>0.013349</td>\n",
       "    </tr>\n",
       "    <tr>\n",
       "      <th>GH31</th>\n",
       "      <td>0.016327</td>\n",
       "      <td>0.013056</td>\n",
       "      <td>0.013625</td>\n",
       "    </tr>\n",
       "    <tr>\n",
       "      <th>GH57</th>\n",
       "      <td>0.013666</td>\n",
       "      <td>0.023333</td>\n",
       "      <td>0.031568</td>\n",
       "    </tr>\n",
       "    <tr>\n",
       "      <th>GH77</th>\n",
       "      <td>0.013010</td>\n",
       "      <td>0.013918</td>\n",
       "      <td>0.014539</td>\n",
       "    </tr>\n",
       "    <tr>\n",
       "      <th>GH65</th>\n",
       "      <td>0.012384</td>\n",
       "      <td>0.012395</td>\n",
       "      <td>0.011997</td>\n",
       "    </tr>\n",
       "    <tr>\n",
       "      <th>GH127</th>\n",
       "      <td>0.010926</td>\n",
       "      <td>0.012288</td>\n",
       "      <td>0.011640</td>\n",
       "    </tr>\n",
       "    <tr>\n",
       "      <th>GH4</th>\n",
       "      <td>0.010703</td>\n",
       "      <td>0.016504</td>\n",
       "      <td>0.012399</td>\n",
       "    </tr>\n",
       "  </tbody>\n",
       "</table>\n",
       "</div>"
      ],
      "text/plain": [
       "             2         6         15\n",
       "GH13   0.123909  0.155231  0.172981\n",
       "GT35   0.070255  0.055459  0.073539\n",
       "GT2    0.060836  0.056628  0.051804\n",
       "CBM48  0.056802  0.052278  0.057062\n",
       "GH2    0.045872  0.043465  0.047906\n",
       "GT4    0.045855  0.051296  0.061723\n",
       "GH3    0.038930  0.045703  0.036348\n",
       "GT51   0.026427  0.016083  0.016393\n",
       "GH94   0.024974  0.031177  0.029501\n",
       "GH0    0.023839  0.016771  0.013495\n",
       "GH43   0.021536  0.011646  0.012691\n",
       "GH130  0.020329  0.025772  0.025315\n",
       "GH95   0.019316  0.021255  0.014611\n",
       "GH29   0.017027  0.022878  0.012150\n",
       "GH51   0.016659  0.022999  0.013349\n",
       "GH31   0.016327  0.013056  0.013625\n",
       "GH57   0.013666  0.023333  0.031568\n",
       "GH77   0.013010  0.013918  0.014539\n",
       "GH65   0.012384  0.012395  0.011997\n",
       "GH127  0.010926  0.012288  0.011640\n",
       "GH4    0.010703  0.016504  0.012399"
      ]
     },
     "execution_count": 22,
     "metadata": {},
     "output_type": "execute_result"
    }
   ],
   "source": [
    "abundance.dropna()"
   ]
  },
  {
   "cell_type": "code",
   "execution_count": 23,
   "metadata": {
    "collapsed": false
   },
   "outputs": [
    {
     "data": {
      "text/plain": [
       "2     0.729161\n",
       "6     0.791836\n",
       "15    0.770102\n",
       "dtype: float64"
      ]
     },
     "execution_count": 23,
     "metadata": {},
     "output_type": "execute_result"
    }
   ],
   "source": [
    "abundance.sum()"
   ]
  },
  {
   "cell_type": "code",
   "execution_count": 24,
   "metadata": {
    "collapsed": false
   },
   "outputs": [
    {
     "data": {
      "text/html": [
       "<div>\n",
       "<table border=\"1\" class=\"dataframe\">\n",
       "  <thead>\n",
       "    <tr style=\"text-align: right;\">\n",
       "      <th></th>\n",
       "      <th>2</th>\n",
       "      <th>6</th>\n",
       "      <th>15</th>\n",
       "    </tr>\n",
       "  </thead>\n",
       "  <tbody>\n",
       "    <tr>\n",
       "      <th>count</th>\n",
       "      <td>21.000000</td>\n",
       "      <td>21.000000</td>\n",
       "      <td>21.000000</td>\n",
       "    </tr>\n",
       "    <tr>\n",
       "      <th>mean</th>\n",
       "      <td>0.032837</td>\n",
       "      <td>0.034292</td>\n",
       "      <td>0.034983</td>\n",
       "    </tr>\n",
       "    <tr>\n",
       "      <th>std</th>\n",
       "      <td>0.027398</td>\n",
       "      <td>0.031881</td>\n",
       "      <td>0.037071</td>\n",
       "    </tr>\n",
       "    <tr>\n",
       "      <th>min</th>\n",
       "      <td>0.010703</td>\n",
       "      <td>0.011646</td>\n",
       "      <td>0.011640</td>\n",
       "    </tr>\n",
       "    <tr>\n",
       "      <th>25%</th>\n",
       "      <td>0.016327</td>\n",
       "      <td>0.016083</td>\n",
       "      <td>0.013349</td>\n",
       "    </tr>\n",
       "    <tr>\n",
       "      <th>50%</th>\n",
       "      <td>0.021536</td>\n",
       "      <td>0.022999</td>\n",
       "      <td>0.016393</td>\n",
       "    </tr>\n",
       "    <tr>\n",
       "      <th>75%</th>\n",
       "      <td>0.045855</td>\n",
       "      <td>0.045703</td>\n",
       "      <td>0.047906</td>\n",
       "    </tr>\n",
       "    <tr>\n",
       "      <th>max</th>\n",
       "      <td>0.123909</td>\n",
       "      <td>0.155231</td>\n",
       "      <td>0.172981</td>\n",
       "    </tr>\n",
       "  </tbody>\n",
       "</table>\n",
       "</div>"
      ],
      "text/plain": [
       "              2          6          15\n",
       "count  21.000000  21.000000  21.000000\n",
       "mean    0.032837   0.034292   0.034983\n",
       "std     0.027398   0.031881   0.037071\n",
       "min     0.010703   0.011646   0.011640\n",
       "25%     0.016327   0.016083   0.013349\n",
       "50%     0.021536   0.022999   0.016393\n",
       "75%     0.045855   0.045703   0.047906\n",
       "max     0.123909   0.155231   0.172981"
      ]
     },
     "execution_count": 24,
     "metadata": {},
     "output_type": "execute_result"
    }
   ],
   "source": [
    "abundance.dropna().describe()"
   ]
  },
  {
   "cell_type": "markdown",
   "metadata": {},
   "source": [
    "### Using families with relative abundance >1% in any depth"
   ]
  },
  {
   "cell_type": "code",
   "execution_count": 25,
   "metadata": {
    "collapsed": true
   },
   "outputs": [],
   "source": [
    "families_to_track = abundance.index\n",
    "\n",
    "any_abundances_per_depth = {}\n",
    "\n",
    "for depth in DEPTHS:\n",
    "    counts = samples_per_depth[depth]['families'].value_counts()\n",
    "    most_common = counts[families_to_track]\n",
    "\n",
    "    any_abundances_per_depth[depth] = most_common / samples_per_depth[depth]['families'].count()"
   ]
  },
  {
   "cell_type": "code",
   "execution_count": 26,
   "metadata": {
    "collapsed": true
   },
   "outputs": [],
   "source": [
    "abundance = pd.DataFrame(any_abundances_per_depth)\n",
    "abundance.sort_values(by=2, ascending=False, inplace=True)"
   ]
  },
  {
   "cell_type": "code",
   "execution_count": 27,
   "metadata": {
    "collapsed": false
   },
   "outputs": [
    {
     "data": {
      "text/plain": [
       "<matplotlib.legend.Legend at 0x7ff19e5d7828>"
      ]
     },
     "execution_count": 27,
     "metadata": {},
     "output_type": "execute_result"
    },
    {
     "data": {
      "image/png": "[encoded data removed]",
      "text/plain": [
       "<matplotlib.figure.Figure at 0x7ff19dde57f0>"
      ]
     },
     "metadata": {},
     "output_type": "display_data"
    }
   ],
   "source": [
    "ax = abundance.dropna().plot.bar(width=.75)\n",
    "ax.set_ylabel(\"Relative abundance\")\n",
    "ax.set_xlabel(\"Families\")\n",
    "ax.legend(loc='best', title=\"Depth\")"
   ]
  },
  {
   "cell_type": "code",
   "execution_count": 28,
   "metadata": {
    "collapsed": false
   },
   "outputs": [
    {
     "data": {
      "text/html": [
       "<div>\n",
       "<table border=\"1\" class=\"dataframe\">\n",
       "  <thead>\n",
       "    <tr style=\"text-align: right;\">\n",
       "      <th></th>\n",
       "      <th>2</th>\n",
       "      <th>6</th>\n",
       "      <th>15</th>\n",
       "    </tr>\n",
       "  </thead>\n",
       "  <tbody>\n",
       "    <tr>\n",
       "      <th>GH13</th>\n",
       "      <td>0.123909</td>\n",
       "      <td>0.155231</td>\n",
       "      <td>0.172981</td>\n",
       "    </tr>\n",
       "    <tr>\n",
       "      <th>GT35</th>\n",
       "      <td>0.070255</td>\n",
       "      <td>0.055459</td>\n",
       "      <td>0.073539</td>\n",
       "    </tr>\n",
       "    <tr>\n",
       "      <th>GT2</th>\n",
       "      <td>0.060836</td>\n",
       "      <td>0.056628</td>\n",
       "      <td>0.051804</td>\n",
       "    </tr>\n",
       "    <tr>\n",
       "      <th>CBM48</th>\n",
       "      <td>0.056802</td>\n",
       "      <td>0.052278</td>\n",
       "      <td>0.057062</td>\n",
       "    </tr>\n",
       "    <tr>\n",
       "      <th>GH2</th>\n",
       "      <td>0.045872</td>\n",
       "      <td>0.043465</td>\n",
       "      <td>0.047906</td>\n",
       "    </tr>\n",
       "    <tr>\n",
       "      <th>GT4</th>\n",
       "      <td>0.045855</td>\n",
       "      <td>0.051296</td>\n",
       "      <td>0.061723</td>\n",
       "    </tr>\n",
       "    <tr>\n",
       "      <th>GH3</th>\n",
       "      <td>0.038930</td>\n",
       "      <td>0.045703</td>\n",
       "      <td>0.036348</td>\n",
       "    </tr>\n",
       "    <tr>\n",
       "      <th>GT51</th>\n",
       "      <td>0.026427</td>\n",
       "      <td>0.016083</td>\n",
       "      <td>0.016393</td>\n",
       "    </tr>\n",
       "    <tr>\n",
       "      <th>GH94</th>\n",
       "      <td>0.024974</td>\n",
       "      <td>0.031177</td>\n",
       "      <td>0.029501</td>\n",
       "    </tr>\n",
       "    <tr>\n",
       "      <th>GH0</th>\n",
       "      <td>0.023839</td>\n",
       "      <td>0.016771</td>\n",
       "      <td>0.013495</td>\n",
       "    </tr>\n",
       "    <tr>\n",
       "      <th>GH43</th>\n",
       "      <td>0.021536</td>\n",
       "      <td>0.011646</td>\n",
       "      <td>0.012691</td>\n",
       "    </tr>\n",
       "    <tr>\n",
       "      <th>GH130</th>\n",
       "      <td>0.020329</td>\n",
       "      <td>0.025772</td>\n",
       "      <td>0.025315</td>\n",
       "    </tr>\n",
       "    <tr>\n",
       "      <th>GH95</th>\n",
       "      <td>0.019316</td>\n",
       "      <td>0.021255</td>\n",
       "      <td>0.014611</td>\n",
       "    </tr>\n",
       "    <tr>\n",
       "      <th>GH29</th>\n",
       "      <td>0.017027</td>\n",
       "      <td>0.022878</td>\n",
       "      <td>0.012150</td>\n",
       "    </tr>\n",
       "    <tr>\n",
       "      <th>GH51</th>\n",
       "      <td>0.016659</td>\n",
       "      <td>0.022999</td>\n",
       "      <td>0.013349</td>\n",
       "    </tr>\n",
       "    <tr>\n",
       "      <th>GH31</th>\n",
       "      <td>0.016327</td>\n",
       "      <td>0.013056</td>\n",
       "      <td>0.013625</td>\n",
       "    </tr>\n",
       "    <tr>\n",
       "      <th>GH78</th>\n",
       "      <td>0.016155</td>\n",
       "      <td>0.011152</td>\n",
       "      <td>0.009567</td>\n",
       "    </tr>\n",
       "    <tr>\n",
       "      <th>GH57</th>\n",
       "      <td>0.013666</td>\n",
       "      <td>0.023333</td>\n",
       "      <td>0.031568</td>\n",
       "    </tr>\n",
       "    <tr>\n",
       "      <th>GH77</th>\n",
       "      <td>0.013010</td>\n",
       "      <td>0.013918</td>\n",
       "      <td>0.014539</td>\n",
       "    </tr>\n",
       "    <tr>\n",
       "      <th>GH65</th>\n",
       "      <td>0.012384</td>\n",
       "      <td>0.012395</td>\n",
       "      <td>0.011997</td>\n",
       "    </tr>\n",
       "    <tr>\n",
       "      <th>GH23</th>\n",
       "      <td>0.011912</td>\n",
       "      <td>0.006461</td>\n",
       "      <td>0.007237</td>\n",
       "    </tr>\n",
       "    <tr>\n",
       "      <th>CE11</th>\n",
       "      <td>0.011514</td>\n",
       "      <td>0.007998</td>\n",
       "      <td>0.007662</td>\n",
       "    </tr>\n",
       "    <tr>\n",
       "      <th>GH127</th>\n",
       "      <td>0.010926</td>\n",
       "      <td>0.012288</td>\n",
       "      <td>0.011640</td>\n",
       "    </tr>\n",
       "    <tr>\n",
       "      <th>GH4</th>\n",
       "      <td>0.010703</td>\n",
       "      <td>0.016504</td>\n",
       "      <td>0.012399</td>\n",
       "    </tr>\n",
       "    <tr>\n",
       "      <th>GT5</th>\n",
       "      <td>0.009040</td>\n",
       "      <td>0.010738</td>\n",
       "      <td>0.007776</td>\n",
       "    </tr>\n",
       "    <tr>\n",
       "      <th>AA2</th>\n",
       "      <td>0.008317</td>\n",
       "      <td>0.010524</td>\n",
       "      <td>0.010339</td>\n",
       "    </tr>\n",
       "    <tr>\n",
       "      <th>PL11</th>\n",
       "      <td>0.008048</td>\n",
       "      <td>0.010965</td>\n",
       "      <td>0.007895</td>\n",
       "    </tr>\n",
       "    <tr>\n",
       "      <th>GH1</th>\n",
       "      <td>0.006691</td>\n",
       "      <td>0.013911</td>\n",
       "      <td>0.013753</td>\n",
       "    </tr>\n",
       "    <tr>\n",
       "      <th>CBM6</th>\n",
       "      <td>0.005090</td>\n",
       "      <td>0.014413</td>\n",
       "      <td>0.005687</td>\n",
       "    </tr>\n",
       "    <tr>\n",
       "      <th>GH15</th>\n",
       "      <td>0.004740</td>\n",
       "      <td>0.003829</td>\n",
       "      <td>0.011373</td>\n",
       "    </tr>\n",
       "  </tbody>\n",
       "</table>\n",
       "</div>"
      ],
      "text/plain": [
       "             2         6         15\n",
       "GH13   0.123909  0.155231  0.172981\n",
       "GT35   0.070255  0.055459  0.073539\n",
       "GT2    0.060836  0.056628  0.051804\n",
       "CBM48  0.056802  0.052278  0.057062\n",
       "GH2    0.045872  0.043465  0.047906\n",
       "GT4    0.045855  0.051296  0.061723\n",
       "GH3    0.038930  0.045703  0.036348\n",
       "GT51   0.026427  0.016083  0.016393\n",
       "GH94   0.024974  0.031177  0.029501\n",
       "GH0    0.023839  0.016771  0.013495\n",
       "GH43   0.021536  0.011646  0.012691\n",
       "GH130  0.020329  0.025772  0.025315\n",
       "GH95   0.019316  0.021255  0.014611\n",
       "GH29   0.017027  0.022878  0.012150\n",
       "GH51   0.016659  0.022999  0.013349\n",
       "GH31   0.016327  0.013056  0.013625\n",
       "GH78   0.016155  0.011152  0.009567\n",
       "GH57   0.013666  0.023333  0.031568\n",
       "GH77   0.013010  0.013918  0.014539\n",
       "GH65   0.012384  0.012395  0.011997\n",
       "GH23   0.011912  0.006461  0.007237\n",
       "CE11   0.011514  0.007998  0.007662\n",
       "GH127  0.010926  0.012288  0.011640\n",
       "GH4    0.010703  0.016504  0.012399\n",
       "GT5    0.009040  0.010738  0.007776\n",
       "AA2    0.008317  0.010524  0.010339\n",
       "PL11   0.008048  0.010965  0.007895\n",
       "GH1    0.006691  0.013911  0.013753\n",
       "CBM6   0.005090  0.014413  0.005687\n",
       "GH15   0.004740  0.003829  0.011373"
      ]
     },
     "execution_count": 28,
     "metadata": {},
     "output_type": "execute_result"
    }
   ],
   "source": [
    "abundance"
   ]
  },
  {
   "cell_type": "code",
   "execution_count": 29,
   "metadata": {
    "collapsed": false
   },
   "outputs": [
    {
     "data": {
      "text/plain": [
       "2     0.771087\n",
       "6     0.810124\n",
       "15    0.815927\n",
       "dtype: float64"
      ]
     },
     "execution_count": 29,
     "metadata": {},
     "output_type": "execute_result"
    }
   ],
   "source": [
    "abundance.sum()"
   ]
  },
  {
   "cell_type": "code",
   "execution_count": 30,
   "metadata": {
    "collapsed": false
   },
   "outputs": [
    {
     "data": {
      "text/html": [
       "<div>\n",
       "<table border=\"1\" class=\"dataframe\">\n",
       "  <thead>\n",
       "    <tr style=\"text-align: right;\">\n",
       "      <th></th>\n",
       "      <th>2</th>\n",
       "      <th>6</th>\n",
       "      <th>15</th>\n",
       "    </tr>\n",
       "  </thead>\n",
       "  <tbody>\n",
       "    <tr>\n",
       "      <th>count</th>\n",
       "      <td>30.000000</td>\n",
       "      <td>30.000000</td>\n",
       "      <td>30.000000</td>\n",
       "    </tr>\n",
       "    <tr>\n",
       "      <th>mean</th>\n",
       "      <td>0.025703</td>\n",
       "      <td>0.027004</td>\n",
       "      <td>0.027198</td>\n",
       "    </tr>\n",
       "    <tr>\n",
       "      <th>std</th>\n",
       "      <td>0.025381</td>\n",
       "      <td>0.028851</td>\n",
       "      <td>0.033102</td>\n",
       "    </tr>\n",
       "    <tr>\n",
       "      <th>min</th>\n",
       "      <td>0.004740</td>\n",
       "      <td>0.003829</td>\n",
       "      <td>0.005687</td>\n",
       "    </tr>\n",
       "    <tr>\n",
       "      <th>25%</th>\n",
       "      <td>0.011073</td>\n",
       "      <td>0.011807</td>\n",
       "      <td>0.011440</td>\n",
       "    </tr>\n",
       "    <tr>\n",
       "      <th>50%</th>\n",
       "      <td>0.016493</td>\n",
       "      <td>0.016293</td>\n",
       "      <td>0.013560</td>\n",
       "    </tr>\n",
       "    <tr>\n",
       "      <th>75%</th>\n",
       "      <td>0.026064</td>\n",
       "      <td>0.029826</td>\n",
       "      <td>0.031051</td>\n",
       "    </tr>\n",
       "    <tr>\n",
       "      <th>max</th>\n",
       "      <td>0.123909</td>\n",
       "      <td>0.155231</td>\n",
       "      <td>0.172981</td>\n",
       "    </tr>\n",
       "  </tbody>\n",
       "</table>\n",
       "</div>"
      ],
      "text/plain": [
       "              2          6          15\n",
       "count  30.000000  30.000000  30.000000\n",
       "mean    0.025703   0.027004   0.027198\n",
       "std     0.025381   0.028851   0.033102\n",
       "min     0.004740   0.003829   0.005687\n",
       "25%     0.011073   0.011807   0.011440\n",
       "50%     0.016493   0.016293   0.013560\n",
       "75%     0.026064   0.029826   0.031051\n",
       "max     0.123909   0.155231   0.172981"
      ]
     },
     "execution_count": 30,
     "metadata": {},
     "output_type": "execute_result"
    }
   ],
   "source": [
    "abundance.describe()"
   ]
  }
 ],
 "metadata": {
  "kernelspec": {
   "display_name": "Python 3",
   "language": "python",
   "name": "python3"
  },
  "language_info": {
   "codemirror_mode": {
    "name": "ipython",
    "version": 3
   },
   "file_extension": ".py",
   "mimetype": "text/x-python",
   "name": "python",
   "nbconvert_exporter": "python",
   "pygments_lexer": "ipython3",
   "version": "3.4.3"
  },
  "nav_menu": {},
  "toc": {
   "navigate_menu": true,
   "number_sections": false,
   "sideBar": true,
   "threshold": 6,
   "toc_cell": true,
   "toc_section_display": "block",
   "toc_window_display": true
  }
 },
 "nbformat": 4,
 "nbformat_minor": 1
}
