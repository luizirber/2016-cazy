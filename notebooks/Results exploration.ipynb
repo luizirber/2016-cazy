{
 "cells": [
  {
   "cell_type": "markdown",
   "metadata": {
    "toc": "true"
   },
   "source": [
    "# Table of Contents\n",
    " <p><div class=\"lev2 toc-item\"><a href=\"#Setup\" data-toc-modified-id=\"Setup-0.1\"><span class=\"toc-item-num\">0.1&nbsp;&nbsp;</span>Setup</a></div><div class=\"lev3 toc-item\"><a href=\"#Python-libraries\" data-toc-modified-id=\"Python-libraries-0.1.1\"><span class=\"toc-item-num\">0.1.1&nbsp;&nbsp;</span>Python libraries</a></div><div class=\"lev3 toc-item\"><a href=\"#Constants\" data-toc-modified-id=\"Constants-0.1.2\"><span class=\"toc-item-num\">0.1.2&nbsp;&nbsp;</span>Constants</a></div><div class=\"lev2 toc-item\"><a href=\"#Preparing-the-data\" data-toc-modified-id=\"Preparing-the-data-0.2\"><span class=\"toc-item-num\">0.2&nbsp;&nbsp;</span>Preparing the data</a></div><div class=\"lev3 toc-item\"><a href=\"#Collecting-families\" data-toc-modified-id=\"Collecting-families-0.2.1\"><span class=\"toc-item-num\">0.2.1&nbsp;&nbsp;</span>Collecting families</a></div><div class=\"lev2 toc-item\"><a href=\"#Analysis-(all-samples)\" data-toc-modified-id=\"Analysis-(all-samples)-0.3\"><span class=\"toc-item-num\">0.3&nbsp;&nbsp;</span>Analysis (all samples)</a></div><div class=\"lev3 toc-item\"><a href=\"#Matches-per-family\" data-toc-modified-id=\"Matches-per-family-0.3.1\"><span class=\"toc-item-num\">0.3.1&nbsp;&nbsp;</span>Matches per family</a></div><div class=\"lev3 toc-item\"><a href=\"#Families-per-module\" data-toc-modified-id=\"Families-per-module-0.3.2\"><span class=\"toc-item-num\">0.3.2&nbsp;&nbsp;</span>Families per module</a></div><div class=\"lev3 toc-item\"><a href=\"#Matches-per-module\" data-toc-modified-id=\"Matches-per-module-0.3.3\"><span class=\"toc-item-num\">0.3.3&nbsp;&nbsp;</span>Matches per module</a></div><div class=\"lev3 toc-item\"><a href=\"#Cumulative-sum-for-families\" data-toc-modified-id=\"Cumulative-sum-for-families-0.3.4\"><span class=\"toc-item-num\">0.3.4&nbsp;&nbsp;</span>Cumulative sum for families</a></div><div class=\"lev3 toc-item\"><a href=\"#Filtering-families-with-more-than-1%-relative-abundance\" data-toc-modified-id=\"Filtering-families-with-more-than-1%-relative-abundance-0.3.5\"><span class=\"toc-item-num\">0.3.5&nbsp;&nbsp;</span>Filtering families with more than 1% relative abundance</a></div><div class=\"lev2 toc-item\"><a href=\"#Analysis-per-depth\" data-toc-modified-id=\"Analysis-per-depth-0.4\"><span class=\"toc-item-num\">0.4&nbsp;&nbsp;</span>Analysis per depth</a></div><div class=\"lev3 toc-item\"><a href=\"#Using-only-families-with-relative-abundance-&gt;1%-in-every-depth\" data-toc-modified-id=\"Using-only-families-with-relative-abundance->1%-in-every-depth-0.4.1\"><span class=\"toc-item-num\">0.4.1&nbsp;&nbsp;</span>Using only families with relative abundance &gt;1% in every depth</a></div><div class=\"lev3 toc-item\"><a href=\"#Using-families-with-relative-abundance-&gt;1%-in-any-depth\" data-toc-modified-id=\"Using-families-with-relative-abundance->1%-in-any-depth-0.4.2\"><span class=\"toc-item-num\">0.4.2&nbsp;&nbsp;</span>Using families with relative abundance &gt;1% in any depth</a></div><div class=\"lev2 toc-item\"><a href=\"#Calculating-mean-and-standard-deviation\" data-toc-modified-id=\"Calculating-mean-and-standard-deviation-0.5\"><span class=\"toc-item-num\">0.5&nbsp;&nbsp;</span>Calculating mean and standard deviation</a></div><div class=\"lev2 toc-item\"><a href=\"#Saving-data-to-disk\" data-toc-modified-id=\"Saving-data-to-disk-0.6\"><span class=\"toc-item-num\">0.6&nbsp;&nbsp;</span>Saving data to disk</a></div>"
   ]
  },
  {
   "cell_type": "markdown",
   "metadata": {},
   "source": [
    "## Setup\n",
    "\n",
    "### Python libraries"
   ]
  },
  {
   "cell_type": "code",
   "execution_count": 1,
   "metadata": {
    "collapsed": false
   },
   "outputs": [],
   "source": [
    "%matplotlib inline\n",
    "import numpy as np\n",
    "import matplotlib.pyplot as plt\n",
    "import pandas as pd\n",
    "import seaborn as sns\n",
    "\n",
    "#plt.style.use(\"fivethirtyeight\")\n",
    "plt.style.use(\"seaborn-darkgrid\")\n",
    "\n",
    "from bisect import bisect\n",
    "from itertools import product"
   ]
  },
  {
   "cell_type": "markdown",
   "metadata": {},
   "source": [
    "### Constants\n",
    "\n",
    "We have three replicates for each depth (2, 6 and 15 cm)"
   ]
  },
  {
   "cell_type": "code",
   "execution_count": 2,
   "metadata": {
    "collapsed": true
   },
   "outputs": [],
   "source": [
    "REPLICATES = [1, 2 ,3]\n",
    "DEPTHS = [2, 6, 15]\n",
    "\n",
    "PERCENT_ID = 60"
   ]
  },
  {
   "cell_type": "code",
   "execution_count": 3,
   "metadata": {
    "collapsed": false
   },
   "outputs": [
    {
     "name": "stdout",
     "output_type": "stream",
     "text": [
      "PRJ_ROOT = next(shell(\"readlink -e .\", iterable=True))\r\n",
      "DBS = [\"dbcan\"]\r\n",
      "\r\n",
      "BARCODE = {\r\n",
      "    \"1-2\":  \"CAGATC\",\r\n",
      "    \"1-6\":  \"AGTCAA\",\r\n",
      "    \"1-15\": \"TAGCTT\",\r\n",
      "    \"2-2\":  \"ACTTGA\",\r\n",
      "    \"2-6\":  \"AGTTCC\",\r\n",
      "    \"2-15\": \"GGCTAC\",\r\n",
      "    \"3-2\":  \"GATCAG\",\r\n",
      "    \"3-6\":  \"ATGTCA\",\r\n",
      "    \"3-15\": \"CTTGTA\",\r\n",
      "}\r\n",
      "\r\n",
      "EVALUE = \"1e-10\"\r\n"
     ]
    }
   ],
   "source": [
    "!cat ../conf.py"
   ]
  },
  {
   "cell_type": "markdown",
   "metadata": {},
   "source": [
    "## Preparing the data\n",
    "\n",
    "### Collecting families\n",
    "\n",
    "The CAZy DB we used for alignment has IDs in this format: `ABN57689.1|GT4`,\n",
    "where `ABN57689.1` is the accession number for the organism where the protein was found\n",
    "and `GT4` is the family this protein belongs.\n",
    "We are interested in the families,\n",
    "so we start by extracting the family for each match and filtering matches for >60% identity.\n",
    "Families from each sample are accumulated in two Series, one for all samples and another grouped by depth.\n",
    "\n",
    "- TODO: Some query might have more than one match, limit to best match for more precise calculation"
   ]
  },
  {
   "cell_type": "code",
   "execution_count": 4,
   "metadata": {
    "collapsed": true
   },
   "outputs": [],
   "source": [
    "all_samples = None\n",
    "samples_per_depth = {\n",
    "  2: {},\n",
    "  6: {},\n",
    "  15: {}\n",
    "}\n",
    "\n",
    "samples_df = None"
   ]
  },
  {
   "cell_type": "code",
   "execution_count": 5,
   "metadata": {
    "collapsed": false,
    "scrolled": true
   },
   "outputs": [],
   "source": [
    "for rep, depth in product(REPLICATES, DEPTHS):\n",
    "    t = pd.read_table(\"../outputs/diamond/dbcan/{}-{}D.out.gz\".format(rep, depth),\n",
    "                      header=None,\n",
    "                      names=[\"query\", \"subject\", \"percent_id\",\n",
    "                             \"alignment_length\", \"mismatches\",\n",
    "                             \"gap_openings\", \"q_start\", \"q_end\",\n",
    "                             \"s_start\", \"s_end\", \"e_value\", \"bit_score\"])\n",
    "    families = t[t.percent_id > PERCENT_ID].subject.str.split('|').str.get(1)\n",
    "    t['family'] = families\n",
    "    t['rep'] = rep\n",
    "    t['depth'] = depth\n",
    "    \n",
    "    if all_samples is None:\n",
    "        all_samples = families\n",
    "    else:\n",
    "        all_samples = all_samples.append(families)\n",
    "\n",
    "    if 'families' in samples_per_depth[depth]:\n",
    "        samples_per_depth[depth]['families'] = samples_per_depth[depth]['families'].append(families)\n",
    "    else:\n",
    "        samples_per_depth[depth]['families'] = families\n",
    "        \n",
    "    if samples_df is None:\n",
    "        samples_df = t\n",
    "    else:\n",
    "        samples_df = samples_df.append(t)"
   ]
  },
  {
   "cell_type": "code",
   "execution_count": 6,
   "metadata": {
    "collapsed": false,
    "scrolled": true
   },
   "outputs": [],
   "source": [
    "abundances_per_depth = {}\n",
    "\n",
    "for depth in DEPTHS:\n",
    "    counts = samples_per_depth[depth]['families'].value_counts()\n",
    "    most_common = counts[counts / samples_per_depth[depth]['families'].count() > .01]\n",
    "\n",
    "    abundances_per_depth[depth] = most_common / samples_per_depth[depth]['families'].count()"
   ]
  },
  {
   "cell_type": "markdown",
   "metadata": {},
   "source": [
    "## Analysis (all samples)"
   ]
  },
  {
   "cell_type": "markdown",
   "metadata": {},
   "source": [
    "### Matches per family\n",
    "\n",
    "There are 275 families in these samples,\n",
    "with each family having an average of 4468 matches in all samples."
   ]
  },
  {
   "cell_type": "code",
   "execution_count": 7,
   "metadata": {
    "collapsed": false,
    "scrolled": true
   },
   "outputs": [
    {
     "data": {
      "text/plain": [
       "count       275.000000\n",
       "mean       4420.738182\n",
       "std       15191.538206\n",
       "min           1.000000\n",
       "25%          22.000000\n",
       "50%         203.000000\n",
       "75%        2074.500000\n",
       "max      183732.000000\n",
       "Name: subject, dtype: float64"
      ]
     },
     "execution_count": 7,
     "metadata": {},
     "output_type": "execute_result"
    }
   ],
   "source": [
    "counts = all_samples.value_counts()\n",
    "counts.describe()"
   ]
  },
  {
   "cell_type": "markdown",
   "metadata": {},
   "source": [
    "The family with more matches is `GH13`."
   ]
  },
  {
   "cell_type": "code",
   "execution_count": 8,
   "metadata": {
    "collapsed": false,
    "scrolled": true
   },
   "outputs": [
    {
     "data": {
      "text/plain": [
       "GH13     183732\n",
       "GT35      85165\n",
       "GT2       69174\n",
       "GT4       65955\n",
       "CBM48     63500\n",
       "GH2       56856\n",
       "GH3       47023\n",
       "GH94      33184\n",
       "GH130     28417\n",
       "GH57      28231\n",
       "GT51      25315\n",
       "GH0       22021\n",
       "GH95      21304\n",
       "GH43      19885\n",
       "GH51      19182\n",
       "GH29      18848\n",
       "GH31      17792\n",
       "GH77      16912\n",
       "GH78      15296\n",
       "GH4       14783\n",
       "GH65      14591\n",
       "GH127     13898\n",
       "GH1       13213\n",
       "AA2       11558\n",
       "CE11      11457\n",
       "GH23      11242\n",
       "GT5       10597\n",
       "PL11      10266\n",
       "GH28       9686\n",
       "PL1        9679\n",
       "          ...  \n",
       "PL24          3\n",
       "GH85          3\n",
       "CBM79         3\n",
       "GT57          3\n",
       "GT21          3\n",
       "CBM65         3\n",
       "CBM70         3\n",
       "GT18          3\n",
       "CBM18         3\n",
       "GT45          2\n",
       "PL4           2\n",
       "GT6           2\n",
       "GT77          2\n",
       "GH66          2\n",
       "GH71          2\n",
       "CBM58         2\n",
       "PL20          2\n",
       "GT62          1\n",
       "GH84          1\n",
       "CBM68         1\n",
       "GT23          1\n",
       "GT34          1\n",
       "AA11          1\n",
       "GT56          1\n",
       "GT93          1\n",
       "GH135         1\n",
       "AA8           1\n",
       "GT94          1\n",
       "GH131         1\n",
       "AA12          1\n",
       "Name: subject, dtype: int64"
      ]
     },
     "execution_count": 8,
     "metadata": {},
     "output_type": "execute_result"
    }
   ],
   "source": [
    "counts"
   ]
  },
  {
   "cell_type": "markdown",
   "metadata": {},
   "source": [
    "### Families per module\n",
    "\n",
    "We can also check how many families per modules (a group of families) are present.\n",
    "`GH` families (Glycoside hydrolases) are by far the most common,\n",
    "composing ~40% of the families found."
   ]
  },
  {
   "cell_type": "code",
   "execution_count": 9,
   "metadata": {
    "collapsed": false
   },
   "outputs": [
    {
     "data": {
      "text/html": [
       "<div>\n",
       "<table border=\"1\" class=\"dataframe\">\n",
       "  <thead>\n",
       "    <tr style=\"text-align: right;\">\n",
       "      <th></th>\n",
       "      <th>Families per module</th>\n",
       "      <th>Percent of total families per module</th>\n",
       "    </tr>\n",
       "  </thead>\n",
       "  <tbody>\n",
       "    <tr>\n",
       "      <th>GH</th>\n",
       "      <td>108</td>\n",
       "      <td>0.392727</td>\n",
       "    </tr>\n",
       "    <tr>\n",
       "      <th>CBM</th>\n",
       "      <td>62</td>\n",
       "      <td>0.225455</td>\n",
       "    </tr>\n",
       "    <tr>\n",
       "      <th>GT</th>\n",
       "      <td>59</td>\n",
       "      <td>0.214545</td>\n",
       "    </tr>\n",
       "    <tr>\n",
       "      <th>PL</th>\n",
       "      <td>19</td>\n",
       "      <td>0.069091</td>\n",
       "    </tr>\n",
       "    <tr>\n",
       "      <th>CE</th>\n",
       "      <td>15</td>\n",
       "      <td>0.054545</td>\n",
       "    </tr>\n",
       "    <tr>\n",
       "      <th>AA</th>\n",
       "      <td>12</td>\n",
       "      <td>0.043636</td>\n",
       "    </tr>\n",
       "  </tbody>\n",
       "</table>\n",
       "</div>"
      ],
      "text/plain": [
       "     Families per module  Percent of total families per module\n",
       "GH                   108                              0.392727\n",
       "CBM                   62                              0.225455\n",
       "GT                    59                              0.214545\n",
       "PL                    19                              0.069091\n",
       "CE                    15                              0.054545\n",
       "AA                    12                              0.043636"
      ]
     },
     "execution_count": 9,
     "metadata": {},
     "output_type": "execute_result"
    }
   ],
   "source": [
    "# Quick hack to remove the family numbers from the Series.\n",
    "# We replace each character 0-9 with an empty space.\n",
    "delete_ch = dict.fromkeys(range(ord('0'), ord('9') + 1), \"\")\n",
    "\n",
    "modules = counts.index.str.translate(delete_ch).value_counts()\n",
    "pd.DataFrame({'Families per module': modules,\n",
    "              'Percent of total families per module': modules / modules.sum()})"
   ]
  },
  {
   "cell_type": "markdown",
   "metadata": {},
   "source": [
    "### Matches per module\n",
    "\n",
    "If we calculate how many matches are in each module,\n",
    "we can see that `GH` families represent ~60% of the total matches."
   ]
  },
  {
   "cell_type": "code",
   "execution_count": 10,
   "metadata": {
    "collapsed": false
   },
   "outputs": [
    {
     "data": {
      "text/html": [
       "<div>\n",
       "<table border=\"1\" class=\"dataframe\">\n",
       "  <thead>\n",
       "    <tr style=\"text-align: right;\">\n",
       "      <th></th>\n",
       "      <th>Matches per module</th>\n",
       "      <th>Percent of total matches per module</th>\n",
       "    </tr>\n",
       "  </thead>\n",
       "  <tbody>\n",
       "    <tr>\n",
       "      <th>GH</th>\n",
       "      <td>727568</td>\n",
       "      <td>0.598475</td>\n",
       "    </tr>\n",
       "    <tr>\n",
       "      <th>GT</th>\n",
       "      <td>302595</td>\n",
       "      <td>0.248905</td>\n",
       "    </tr>\n",
       "    <tr>\n",
       "      <th>CBM</th>\n",
       "      <td>107707</td>\n",
       "      <td>0.088596</td>\n",
       "    </tr>\n",
       "    <tr>\n",
       "      <th>CE</th>\n",
       "      <td>27398</td>\n",
       "      <td>0.022537</td>\n",
       "    </tr>\n",
       "    <tr>\n",
       "      <th>AA</th>\n",
       "      <td>27215</td>\n",
       "      <td>0.022386</td>\n",
       "    </tr>\n",
       "    <tr>\n",
       "      <th>PL</th>\n",
       "      <td>23220</td>\n",
       "      <td>0.019100</td>\n",
       "    </tr>\n",
       "  </tbody>\n",
       "</table>\n",
       "</div>"
      ],
      "text/plain": [
       "     Matches per module  Percent of total matches per module\n",
       "GH               727568                             0.598475\n",
       "GT               302595                             0.248905\n",
       "CBM              107707                             0.088596\n",
       "CE                27398                             0.022537\n",
       "AA                27215                             0.022386\n",
       "PL                23220                             0.019100"
      ]
     },
     "execution_count": 10,
     "metadata": {},
     "output_type": "execute_result"
    }
   ],
   "source": [
    "modules = all_samples.apply(lambda x: x.translate(delete_ch)).value_counts()\n",
    "pd.DataFrame({'Matches per module': modules,\n",
    "              'Percent of total matches per module': modules / modules.sum()})"
   ]
  },
  {
   "cell_type": "markdown",
   "metadata": {},
   "source": [
    "### Cumulative sum for families\n",
    "\n",
    "From plotting we can see a few families compose most of the samples.\n",
    "The cumulative sum gets close to 90% with ~50 families."
   ]
  },
  {
   "cell_type": "code",
   "execution_count": 11,
   "metadata": {
    "collapsed": false
   },
   "outputs": [
    {
     "data": {
      "text/plain": [
       "<matplotlib.legend.Legend at 0x7f7fef2d5208>"
      ]
     },
     "execution_count": 11,
     "metadata": {},
     "output_type": "execute_result"
    },
    {
     "data": {
      "image/png": "[encoded data removed]",
      "text/plain": [
       "<matplotlib.figure.Figure at 0x7f7fef2d5160>"
      ]
     },
     "metadata": {},
     "output_type": "display_data"
    }
   ],
   "source": [
    "cumsum = pd.DataFrame(data={\n",
    "                      'Counts (relative)': counts, \n",
    "                      'Cumulative (relative)': counts.cumsum() / counts.sum()\n",
    "                    })\n",
    "axes = cumsum.plot.bar(subplots=True,\n",
    "                       figsize=(12, 12))\n",
    "for ax in axes:\n",
    "    ax.tick_params(axis='x', which='major', labelsize=4)\n",
    "    \n",
    "axes[1].axvline(bisect(cumsum['Cumulative (relative)'], .9),\n",
    "                label=\"90%\")\n",
    "axes[1].legend(loc='best')"
   ]
  },
  {
   "cell_type": "markdown",
   "metadata": {},
   "source": [
    "### Filtering families with more than 1% relative abundance"
   ]
  },
  {
   "cell_type": "code",
   "execution_count": 12,
   "metadata": {
    "collapsed": false
   },
   "outputs": [
    {
     "data": {
      "text/plain": [
       "GH13     183732\n",
       "GT35      85165\n",
       "GT2       69174\n",
       "GT4       65955\n",
       "CBM48     63500\n",
       "GH2       56856\n",
       "GH3       47023\n",
       "GH94      33184\n",
       "GH130     28417\n",
       "GH57      28231\n",
       "GT51      25315\n",
       "GH0       22021\n",
       "GH95      21304\n",
       "GH43      19885\n",
       "GH51      19182\n",
       "GH29      18848\n",
       "GH31      17792\n",
       "GH77      16912\n",
       "GH78      15296\n",
       "GH4       14783\n",
       "GH65      14591\n",
       "GH127     13898\n",
       "GH1       13213\n",
       "Name: subject, dtype: int64"
      ]
     },
     "execution_count": 12,
     "metadata": {},
     "output_type": "execute_result"
    }
   ],
   "source": [
    "most_abundant = counts[(counts / counts.sum()) > .01]\n",
    "most_abundant"
   ]
  },
  {
   "cell_type": "code",
   "execution_count": 13,
   "metadata": {
    "collapsed": false
   },
   "outputs": [
    {
     "data": {
      "text/plain": [
       "23"
      ]
     },
     "execution_count": 13,
     "metadata": {},
     "output_type": "execute_result"
    }
   ],
   "source": [
    "len(most_abundant)"
   ]
  },
  {
   "cell_type": "code",
   "execution_count": 14,
   "metadata": {
    "collapsed": false
   },
   "outputs": [
    {
     "data": {
      "text/html": [
       "<div>\n",
       "<table border=\"1\" class=\"dataframe\">\n",
       "  <thead>\n",
       "    <tr style=\"text-align: right;\">\n",
       "      <th></th>\n",
       "      <th>Most abundant (absolute)</th>\n",
       "      <th>Most abundant (relative)</th>\n",
       "    </tr>\n",
       "  </thead>\n",
       "  <tbody>\n",
       "    <tr>\n",
       "      <th>GH13</th>\n",
       "      <td>183732</td>\n",
       "      <td>0.151132</td>\n",
       "    </tr>\n",
       "    <tr>\n",
       "      <th>GT35</th>\n",
       "      <td>85165</td>\n",
       "      <td>0.070054</td>\n",
       "    </tr>\n",
       "    <tr>\n",
       "      <th>GT2</th>\n",
       "      <td>69174</td>\n",
       "      <td>0.056900</td>\n",
       "    </tr>\n",
       "    <tr>\n",
       "      <th>GT4</th>\n",
       "      <td>65955</td>\n",
       "      <td>0.054253</td>\n",
       "    </tr>\n",
       "    <tr>\n",
       "      <th>CBM48</th>\n",
       "      <td>63500</td>\n",
       "      <td>0.052233</td>\n",
       "    </tr>\n",
       "    <tr>\n",
       "      <th>GH2</th>\n",
       "      <td>56856</td>\n",
       "      <td>0.046768</td>\n",
       "    </tr>\n",
       "    <tr>\n",
       "      <th>GH3</th>\n",
       "      <td>47023</td>\n",
       "      <td>0.038680</td>\n",
       "    </tr>\n",
       "    <tr>\n",
       "      <th>GH94</th>\n",
       "      <td>33184</td>\n",
       "      <td>0.027296</td>\n",
       "    </tr>\n",
       "    <tr>\n",
       "      <th>GH130</th>\n",
       "      <td>28417</td>\n",
       "      <td>0.023375</td>\n",
       "    </tr>\n",
       "    <tr>\n",
       "      <th>GH57</th>\n",
       "      <td>28231</td>\n",
       "      <td>0.023222</td>\n",
       "    </tr>\n",
       "    <tr>\n",
       "      <th>GT51</th>\n",
       "      <td>25315</td>\n",
       "      <td>0.020823</td>\n",
       "    </tr>\n",
       "    <tr>\n",
       "      <th>GH0</th>\n",
       "      <td>22021</td>\n",
       "      <td>0.018114</td>\n",
       "    </tr>\n",
       "    <tr>\n",
       "      <th>GH95</th>\n",
       "      <td>21304</td>\n",
       "      <td>0.017524</td>\n",
       "    </tr>\n",
       "    <tr>\n",
       "      <th>GH43</th>\n",
       "      <td>19885</td>\n",
       "      <td>0.016357</td>\n",
       "    </tr>\n",
       "    <tr>\n",
       "      <th>GH51</th>\n",
       "      <td>19182</td>\n",
       "      <td>0.015779</td>\n",
       "    </tr>\n",
       "    <tr>\n",
       "      <th>GH29</th>\n",
       "      <td>18848</td>\n",
       "      <td>0.015504</td>\n",
       "    </tr>\n",
       "    <tr>\n",
       "      <th>GH31</th>\n",
       "      <td>17792</td>\n",
       "      <td>0.014635</td>\n",
       "    </tr>\n",
       "    <tr>\n",
       "      <th>GH77</th>\n",
       "      <td>16912</td>\n",
       "      <td>0.013911</td>\n",
       "    </tr>\n",
       "    <tr>\n",
       "      <th>GH78</th>\n",
       "      <td>15296</td>\n",
       "      <td>0.012582</td>\n",
       "    </tr>\n",
       "    <tr>\n",
       "      <th>GH4</th>\n",
       "      <td>14783</td>\n",
       "      <td>0.012160</td>\n",
       "    </tr>\n",
       "    <tr>\n",
       "      <th>GH65</th>\n",
       "      <td>14591</td>\n",
       "      <td>0.012002</td>\n",
       "    </tr>\n",
       "    <tr>\n",
       "      <th>GH127</th>\n",
       "      <td>13898</td>\n",
       "      <td>0.011432</td>\n",
       "    </tr>\n",
       "    <tr>\n",
       "      <th>GH1</th>\n",
       "      <td>13213</td>\n",
       "      <td>0.010869</td>\n",
       "    </tr>\n",
       "  </tbody>\n",
       "</table>\n",
       "</div>"
      ],
      "text/plain": [
       "       Most abundant (absolute)  Most abundant (relative)\n",
       "GH13                     183732                  0.151132\n",
       "GT35                      85165                  0.070054\n",
       "GT2                       69174                  0.056900\n",
       "GT4                       65955                  0.054253\n",
       "CBM48                     63500                  0.052233\n",
       "GH2                       56856                  0.046768\n",
       "GH3                       47023                  0.038680\n",
       "GH94                      33184                  0.027296\n",
       "GH130                     28417                  0.023375\n",
       "GH57                      28231                  0.023222\n",
       "GT51                      25315                  0.020823\n",
       "GH0                       22021                  0.018114\n",
       "GH95                      21304                  0.017524\n",
       "GH43                      19885                  0.016357\n",
       "GH51                      19182                  0.015779\n",
       "GH29                      18848                  0.015504\n",
       "GH31                      17792                  0.014635\n",
       "GH77                      16912                  0.013911\n",
       "GH78                      15296                  0.012582\n",
       "GH4                       14783                  0.012160\n",
       "GH65                      14591                  0.012002\n",
       "GH127                     13898                  0.011432\n",
       "GH1                       13213                  0.010869"
      ]
     },
     "execution_count": 14,
     "metadata": {},
     "output_type": "execute_result"
    }
   ],
   "source": [
    "abundances = pd.DataFrame({\n",
    "        \"Most abundant (absolute)\": most_abundant,\n",
    "        \"Most abundant (relative)\": most_abundant / counts.sum()})\n",
    "abundances"
   ]
  },
  {
   "cell_type": "markdown",
   "metadata": {},
   "source": [
    "The 23 families with more than 1% relative abundance account for 72% of the matches:"
   ]
  },
  {
   "cell_type": "code",
   "execution_count": 15,
   "metadata": {
    "collapsed": false
   },
   "outputs": [
    {
     "data": {
      "text/plain": [
       "(0.73560483111417829, 23)"
      ]
     },
     "execution_count": 15,
     "metadata": {},
     "output_type": "execute_result"
    }
   ],
   "source": [
    "abundances['Most abundant (relative)'].sum(), len(abundances)"
   ]
  },
  {
   "cell_type": "code",
   "execution_count": 16,
   "metadata": {
    "collapsed": false
   },
   "outputs": [
    {
     "data": {
      "text/plain": [
       "<matplotlib.text.Text at 0x7f7ff8887710>"
      ]
     },
     "execution_count": 16,
     "metadata": {},
     "output_type": "execute_result"
    },
    {
     "data": {
      "image/png": "[encoded data removed]",
      "text/plain": [
       "<matplotlib.figure.Figure at 0x7f7feef93da0>"
      ]
     },
     "metadata": {},
     "output_type": "display_data"
    }
   ],
   "source": [
    "ax = abundances['Most abundant (relative)'].plot.bar()\n",
    "ax.set_ylabel(\"Relative abundance\")\n",
    "ax.set_xlabel(\"Families\")\n",
    "ax.set_title(\"Families with > 1% relative abundance\")"
   ]
  },
  {
   "cell_type": "markdown",
   "metadata": {},
   "source": [
    "## Analysis per depth"
   ]
  },
  {
   "cell_type": "code",
   "execution_count": 17,
   "metadata": {
    "collapsed": false
   },
   "outputs": [],
   "source": [
    "abundance = pd.DataFrame(abundances_per_depth)\n",
    "abundance.sort_values(by=2, ascending=False, inplace=True)"
   ]
  },
  {
   "cell_type": "code",
   "execution_count": 18,
   "metadata": {
    "collapsed": false
   },
   "outputs": [
    {
     "data": {
      "text/plain": [
       "<matplotlib.legend.Legend at 0x7f7fee66dcc0>"
      ]
     },
     "execution_count": 18,
     "metadata": {},
     "output_type": "execute_result"
    },
    {
     "data": {
      "image/png": "[encoded data removed]",
      "text/plain": [
       "<matplotlib.figure.Figure at 0x7f7fee7decc0>"
      ]
     },
     "metadata": {},
     "output_type": "display_data"
    }
   ],
   "source": [
    "ax = abundance.plot.bar()\n",
    "ax.set_ylabel(\"Relative abundance\")\n",
    "ax.set_xlabel(\"Families\")\n",
    "ax.legend(loc='best', title=\"Depth\")"
   ]
  },
  {
   "cell_type": "markdown",
   "metadata": {},
   "source": [
    "Some families are abundant in some families but not in others (see families to the right),\n",
    "so we have two approaches: \n",
    "  - Only use families with relative abundance > 1% in every depth,\n",
    "  - select all families with relative abundance > 1% in any depth, even if it is less than that in other depths."
   ]
  },
  {
   "cell_type": "code",
   "execution_count": 19,
   "metadata": {
    "collapsed": false
   },
   "outputs": [
    {
     "data": {
      "text/html": [
       "<div>\n",
       "<table border=\"1\" class=\"dataframe\">\n",
       "  <thead>\n",
       "    <tr style=\"text-align: right;\">\n",
       "      <th></th>\n",
       "      <th>2</th>\n",
       "      <th>6</th>\n",
       "      <th>15</th>\n",
       "    </tr>\n",
       "  </thead>\n",
       "  <tbody>\n",
       "    <tr>\n",
       "      <th>GH13</th>\n",
       "      <td>0.125287</td>\n",
       "      <td>0.155167</td>\n",
       "      <td>0.173755</td>\n",
       "    </tr>\n",
       "    <tr>\n",
       "      <th>GT35</th>\n",
       "      <td>0.070395</td>\n",
       "      <td>0.055138</td>\n",
       "      <td>0.073662</td>\n",
       "    </tr>\n",
       "    <tr>\n",
       "      <th>GT2</th>\n",
       "      <td>0.061735</td>\n",
       "      <td>0.057682</td>\n",
       "      <td>0.052265</td>\n",
       "    </tr>\n",
       "    <tr>\n",
       "      <th>CBM48</th>\n",
       "      <td>0.052128</td>\n",
       "      <td>0.048725</td>\n",
       "      <td>0.053251</td>\n",
       "    </tr>\n",
       "    <tr>\n",
       "      <th>GT4</th>\n",
       "      <td>0.046303</td>\n",
       "      <td>0.051877</td>\n",
       "      <td>0.062161</td>\n",
       "    </tr>\n",
       "    <tr>\n",
       "      <th>GH2</th>\n",
       "      <td>0.046188</td>\n",
       "      <td>0.042832</td>\n",
       "      <td>0.048334</td>\n",
       "    </tr>\n",
       "    <tr>\n",
       "      <th>GH3</th>\n",
       "      <td>0.038874</td>\n",
       "      <td>0.045997</td>\n",
       "      <td>0.036579</td>\n",
       "    </tr>\n",
       "    <tr>\n",
       "      <th>GT51</th>\n",
       "      <td>0.026767</td>\n",
       "      <td>0.016446</td>\n",
       "      <td>0.016527</td>\n",
       "    </tr>\n",
       "    <tr>\n",
       "      <th>GH94</th>\n",
       "      <td>0.024234</td>\n",
       "      <td>0.030505</td>\n",
       "      <td>0.029259</td>\n",
       "    </tr>\n",
       "    <tr>\n",
       "      <th>GH0</th>\n",
       "      <td>0.023610</td>\n",
       "      <td>0.016692</td>\n",
       "      <td>0.013451</td>\n",
       "    </tr>\n",
       "    <tr>\n",
       "      <th>GH43</th>\n",
       "      <td>0.021642</td>\n",
       "      <td>0.011569</td>\n",
       "      <td>0.012771</td>\n",
       "    </tr>\n",
       "    <tr>\n",
       "      <th>GH130</th>\n",
       "      <td>0.020508</td>\n",
       "      <td>0.025642</td>\n",
       "      <td>0.025407</td>\n",
       "    </tr>\n",
       "    <tr>\n",
       "      <th>GH95</th>\n",
       "      <td>0.019491</td>\n",
       "      <td>0.021303</td>\n",
       "      <td>0.014729</td>\n",
       "    </tr>\n",
       "    <tr>\n",
       "      <th>GH29</th>\n",
       "      <td>0.017079</td>\n",
       "      <td>0.022804</td>\n",
       "      <td>0.012142</td>\n",
       "    </tr>\n",
       "    <tr>\n",
       "      <th>GH51</th>\n",
       "      <td>0.016740</td>\n",
       "      <td>0.022934</td>\n",
       "      <td>0.013017</td>\n",
       "    </tr>\n",
       "    <tr>\n",
       "      <th>GH78</th>\n",
       "      <td>0.016304</td>\n",
       "      <td>0.010860</td>\n",
       "      <td>NaN</td>\n",
       "    </tr>\n",
       "    <tr>\n",
       "      <th>GH31</th>\n",
       "      <td>0.016302</td>\n",
       "      <td>0.012913</td>\n",
       "      <td>0.013560</td>\n",
       "    </tr>\n",
       "    <tr>\n",
       "      <th>GH57</th>\n",
       "      <td>0.013734</td>\n",
       "      <td>0.023691</td>\n",
       "      <td>0.031793</td>\n",
       "    </tr>\n",
       "    <tr>\n",
       "      <th>GH77</th>\n",
       "      <td>0.013022</td>\n",
       "      <td>0.014114</td>\n",
       "      <td>0.014673</td>\n",
       "    </tr>\n",
       "    <tr>\n",
       "      <th>GH65</th>\n",
       "      <td>0.012433</td>\n",
       "      <td>0.011712</td>\n",
       "      <td>0.011683</td>\n",
       "    </tr>\n",
       "    <tr>\n",
       "      <th>GH23</th>\n",
       "      <td>0.012257</td>\n",
       "      <td>NaN</td>\n",
       "      <td>NaN</td>\n",
       "    </tr>\n",
       "    <tr>\n",
       "      <th>CE11</th>\n",
       "      <td>0.011684</td>\n",
       "      <td>NaN</td>\n",
       "      <td>NaN</td>\n",
       "    </tr>\n",
       "    <tr>\n",
       "      <th>GH127</th>\n",
       "      <td>0.010862</td>\n",
       "      <td>0.012388</td>\n",
       "      <td>0.011703</td>\n",
       "    </tr>\n",
       "    <tr>\n",
       "      <th>GH4</th>\n",
       "      <td>0.010725</td>\n",
       "      <td>0.016685</td>\n",
       "      <td>0.012286</td>\n",
       "    </tr>\n",
       "    <tr>\n",
       "      <th>AA2</th>\n",
       "      <td>NaN</td>\n",
       "      <td>0.010225</td>\n",
       "      <td>0.010443</td>\n",
       "    </tr>\n",
       "    <tr>\n",
       "      <th>CBM6</th>\n",
       "      <td>NaN</td>\n",
       "      <td>0.015594</td>\n",
       "      <td>NaN</td>\n",
       "    </tr>\n",
       "    <tr>\n",
       "      <th>GH1</th>\n",
       "      <td>NaN</td>\n",
       "      <td>0.014107</td>\n",
       "      <td>0.013793</td>\n",
       "    </tr>\n",
       "    <tr>\n",
       "      <th>GH15</th>\n",
       "      <td>NaN</td>\n",
       "      <td>NaN</td>\n",
       "      <td>0.011459</td>\n",
       "    </tr>\n",
       "    <tr>\n",
       "      <th>GT5</th>\n",
       "      <td>NaN</td>\n",
       "      <td>0.010914</td>\n",
       "      <td>NaN</td>\n",
       "    </tr>\n",
       "    <tr>\n",
       "      <th>PL11</th>\n",
       "      <td>NaN</td>\n",
       "      <td>0.011221</td>\n",
       "      <td>NaN</td>\n",
       "    </tr>\n",
       "  </tbody>\n",
       "</table>\n",
       "</div>"
      ],
      "text/plain": [
       "             2         6         15\n",
       "GH13   0.125287  0.155167  0.173755\n",
       "GT35   0.070395  0.055138  0.073662\n",
       "GT2    0.061735  0.057682  0.052265\n",
       "CBM48  0.052128  0.048725  0.053251\n",
       "GT4    0.046303  0.051877  0.062161\n",
       "GH2    0.046188  0.042832  0.048334\n",
       "GH3    0.038874  0.045997  0.036579\n",
       "GT51   0.026767  0.016446  0.016527\n",
       "GH94   0.024234  0.030505  0.029259\n",
       "GH0    0.023610  0.016692  0.013451\n",
       "GH43   0.021642  0.011569  0.012771\n",
       "GH130  0.020508  0.025642  0.025407\n",
       "GH95   0.019491  0.021303  0.014729\n",
       "GH29   0.017079  0.022804  0.012142\n",
       "GH51   0.016740  0.022934  0.013017\n",
       "GH78   0.016304  0.010860       NaN\n",
       "GH31   0.016302  0.012913  0.013560\n",
       "GH57   0.013734  0.023691  0.031793\n",
       "GH77   0.013022  0.014114  0.014673\n",
       "GH65   0.012433  0.011712  0.011683\n",
       "GH23   0.012257       NaN       NaN\n",
       "CE11   0.011684       NaN       NaN\n",
       "GH127  0.010862  0.012388  0.011703\n",
       "GH4    0.010725  0.016685  0.012286\n",
       "AA2         NaN  0.010225  0.010443\n",
       "CBM6        NaN  0.015594       NaN\n",
       "GH1         NaN  0.014107  0.013793\n",
       "GH15        NaN       NaN  0.011459\n",
       "GT5         NaN  0.010914       NaN\n",
       "PL11        NaN  0.011221       NaN"
      ]
     },
     "execution_count": 19,
     "metadata": {},
     "output_type": "execute_result"
    }
   ],
   "source": [
    "abundance"
   ]
  },
  {
   "cell_type": "code",
   "execution_count": 20,
   "metadata": {
    "collapsed": false
   },
   "outputs": [
    {
     "data": {
      "text/plain": [
       "2     0.728306\n",
       "6     0.789736\n",
       "15    0.768703\n",
       "dtype: float64"
      ]
     },
     "execution_count": 20,
     "metadata": {},
     "output_type": "execute_result"
    }
   ],
   "source": [
    "abundance.sum()"
   ]
  },
  {
   "cell_type": "code",
   "execution_count": 21,
   "metadata": {
    "collapsed": false
   },
   "outputs": [
    {
     "name": "stderr",
     "output_type": "stream",
     "text": [
      "/home/chick/.virtualenvs/cazy/lib/python3.4/site-packages/numpy/lib/function_base.py:3834: RuntimeWarning: Invalid value encountered in percentile\n",
      "  RuntimeWarning)\n"
     ]
    },
    {
     "data": {
      "text/html": [
       "<div>\n",
       "<table border=\"1\" class=\"dataframe\">\n",
       "  <thead>\n",
       "    <tr style=\"text-align: right;\">\n",
       "      <th></th>\n",
       "      <th>2</th>\n",
       "      <th>6</th>\n",
       "      <th>15</th>\n",
       "    </tr>\n",
       "  </thead>\n",
       "  <tbody>\n",
       "    <tr>\n",
       "      <th>count</th>\n",
       "      <td>24.000000</td>\n",
       "      <td>27.000000</td>\n",
       "      <td>24.000000</td>\n",
       "    </tr>\n",
       "    <tr>\n",
       "      <th>mean</th>\n",
       "      <td>0.030346</td>\n",
       "      <td>0.029249</td>\n",
       "      <td>0.032029</td>\n",
       "    </tr>\n",
       "    <tr>\n",
       "      <th>std</th>\n",
       "      <td>0.026486</td>\n",
       "      <td>0.029442</td>\n",
       "      <td>0.035520</td>\n",
       "    </tr>\n",
       "    <tr>\n",
       "      <th>min</th>\n",
       "      <td>0.010725</td>\n",
       "      <td>0.010225</td>\n",
       "      <td>0.010443</td>\n",
       "    </tr>\n",
       "    <tr>\n",
       "      <th>25%</th>\n",
       "      <td>NaN</td>\n",
       "      <td>NaN</td>\n",
       "      <td>NaN</td>\n",
       "    </tr>\n",
       "    <tr>\n",
       "      <th>50%</th>\n",
       "      <td>NaN</td>\n",
       "      <td>NaN</td>\n",
       "      <td>NaN</td>\n",
       "    </tr>\n",
       "    <tr>\n",
       "      <th>75%</th>\n",
       "      <td>NaN</td>\n",
       "      <td>NaN</td>\n",
       "      <td>NaN</td>\n",
       "    </tr>\n",
       "    <tr>\n",
       "      <th>max</th>\n",
       "      <td>0.125287</td>\n",
       "      <td>0.155167</td>\n",
       "      <td>0.173755</td>\n",
       "    </tr>\n",
       "  </tbody>\n",
       "</table>\n",
       "</div>"
      ],
      "text/plain": [
       "              2          6          15\n",
       "count  24.000000  27.000000  24.000000\n",
       "mean    0.030346   0.029249   0.032029\n",
       "std     0.026486   0.029442   0.035520\n",
       "min     0.010725   0.010225   0.010443\n",
       "25%          NaN        NaN        NaN\n",
       "50%          NaN        NaN        NaN\n",
       "75%          NaN        NaN        NaN\n",
       "max     0.125287   0.155167   0.173755"
      ]
     },
     "execution_count": 21,
     "metadata": {},
     "output_type": "execute_result"
    }
   ],
   "source": [
    "abundance.describe()"
   ]
  },
  {
   "cell_type": "markdown",
   "metadata": {},
   "source": [
    "### Using only families with relative abundance >1% in every depth\n",
    "\n",
    "In this case, we drop any family containing `NaN` (not a number) in our abundance dataframe."
   ]
  },
  {
   "cell_type": "code",
   "execution_count": 22,
   "metadata": {
    "collapsed": false
   },
   "outputs": [
    {
     "data": {
      "text/plain": [
       "<matplotlib.legend.Legend at 0x7f7fef8dae80>"
      ]
     },
     "execution_count": 22,
     "metadata": {},
     "output_type": "execute_result"
    },
    {
     "data": {
      "image/png": "[encoded data removed]",
      "text/plain": [
       "<matplotlib.figure.Figure at 0x7f7ff17291d0>"
      ]
     },
     "metadata": {},
     "output_type": "display_data"
    }
   ],
   "source": [
    "ax = abundance.dropna().plot.bar(width=.75)\n",
    "ax.set_ylabel(\"Relative abundance\")\n",
    "ax.set_xlabel(\"Families\")\n",
    "ax.legend(loc='best', title=\"Depth\")"
   ]
  },
  {
   "cell_type": "code",
   "execution_count": 23,
   "metadata": {
    "collapsed": false
   },
   "outputs": [
    {
     "data": {
      "text/html": [
       "<div>\n",
       "<table border=\"1\" class=\"dataframe\">\n",
       "  <thead>\n",
       "    <tr style=\"text-align: right;\">\n",
       "      <th></th>\n",
       "      <th>2</th>\n",
       "      <th>6</th>\n",
       "      <th>15</th>\n",
       "    </tr>\n",
       "  </thead>\n",
       "  <tbody>\n",
       "    <tr>\n",
       "      <th>GH13</th>\n",
       "      <td>0.125287</td>\n",
       "      <td>0.155167</td>\n",
       "      <td>0.173755</td>\n",
       "    </tr>\n",
       "    <tr>\n",
       "      <th>GT35</th>\n",
       "      <td>0.070395</td>\n",
       "      <td>0.055138</td>\n",
       "      <td>0.073662</td>\n",
       "    </tr>\n",
       "    <tr>\n",
       "      <th>GT2</th>\n",
       "      <td>0.061735</td>\n",
       "      <td>0.057682</td>\n",
       "      <td>0.052265</td>\n",
       "    </tr>\n",
       "    <tr>\n",
       "      <th>CBM48</th>\n",
       "      <td>0.052128</td>\n",
       "      <td>0.048725</td>\n",
       "      <td>0.053251</td>\n",
       "    </tr>\n",
       "    <tr>\n",
       "      <th>GT4</th>\n",
       "      <td>0.046303</td>\n",
       "      <td>0.051877</td>\n",
       "      <td>0.062161</td>\n",
       "    </tr>\n",
       "    <tr>\n",
       "      <th>GH2</th>\n",
       "      <td>0.046188</td>\n",
       "      <td>0.042832</td>\n",
       "      <td>0.048334</td>\n",
       "    </tr>\n",
       "    <tr>\n",
       "      <th>GH3</th>\n",
       "      <td>0.038874</td>\n",
       "      <td>0.045997</td>\n",
       "      <td>0.036579</td>\n",
       "    </tr>\n",
       "    <tr>\n",
       "      <th>GT51</th>\n",
       "      <td>0.026767</td>\n",
       "      <td>0.016446</td>\n",
       "      <td>0.016527</td>\n",
       "    </tr>\n",
       "    <tr>\n",
       "      <th>GH94</th>\n",
       "      <td>0.024234</td>\n",
       "      <td>0.030505</td>\n",
       "      <td>0.029259</td>\n",
       "    </tr>\n",
       "    <tr>\n",
       "      <th>GH0</th>\n",
       "      <td>0.023610</td>\n",
       "      <td>0.016692</td>\n",
       "      <td>0.013451</td>\n",
       "    </tr>\n",
       "    <tr>\n",
       "      <th>GH43</th>\n",
       "      <td>0.021642</td>\n",
       "      <td>0.011569</td>\n",
       "      <td>0.012771</td>\n",
       "    </tr>\n",
       "    <tr>\n",
       "      <th>GH130</th>\n",
       "      <td>0.020508</td>\n",
       "      <td>0.025642</td>\n",
       "      <td>0.025407</td>\n",
       "    </tr>\n",
       "    <tr>\n",
       "      <th>GH95</th>\n",
       "      <td>0.019491</td>\n",
       "      <td>0.021303</td>\n",
       "      <td>0.014729</td>\n",
       "    </tr>\n",
       "    <tr>\n",
       "      <th>GH29</th>\n",
       "      <td>0.017079</td>\n",
       "      <td>0.022804</td>\n",
       "      <td>0.012142</td>\n",
       "    </tr>\n",
       "    <tr>\n",
       "      <th>GH51</th>\n",
       "      <td>0.016740</td>\n",
       "      <td>0.022934</td>\n",
       "      <td>0.013017</td>\n",
       "    </tr>\n",
       "    <tr>\n",
       "      <th>GH31</th>\n",
       "      <td>0.016302</td>\n",
       "      <td>0.012913</td>\n",
       "      <td>0.013560</td>\n",
       "    </tr>\n",
       "    <tr>\n",
       "      <th>GH57</th>\n",
       "      <td>0.013734</td>\n",
       "      <td>0.023691</td>\n",
       "      <td>0.031793</td>\n",
       "    </tr>\n",
       "    <tr>\n",
       "      <th>GH77</th>\n",
       "      <td>0.013022</td>\n",
       "      <td>0.014114</td>\n",
       "      <td>0.014673</td>\n",
       "    </tr>\n",
       "    <tr>\n",
       "      <th>GH65</th>\n",
       "      <td>0.012433</td>\n",
       "      <td>0.011712</td>\n",
       "      <td>0.011683</td>\n",
       "    </tr>\n",
       "    <tr>\n",
       "      <th>GH127</th>\n",
       "      <td>0.010862</td>\n",
       "      <td>0.012388</td>\n",
       "      <td>0.011703</td>\n",
       "    </tr>\n",
       "    <tr>\n",
       "      <th>GH4</th>\n",
       "      <td>0.010725</td>\n",
       "      <td>0.016685</td>\n",
       "      <td>0.012286</td>\n",
       "    </tr>\n",
       "  </tbody>\n",
       "</table>\n",
       "</div>"
      ],
      "text/plain": [
       "             2         6         15\n",
       "GH13   0.125287  0.155167  0.173755\n",
       "GT35   0.070395  0.055138  0.073662\n",
       "GT2    0.061735  0.057682  0.052265\n",
       "CBM48  0.052128  0.048725  0.053251\n",
       "GT4    0.046303  0.051877  0.062161\n",
       "GH2    0.046188  0.042832  0.048334\n",
       "GH3    0.038874  0.045997  0.036579\n",
       "GT51   0.026767  0.016446  0.016527\n",
       "GH94   0.024234  0.030505  0.029259\n",
       "GH0    0.023610  0.016692  0.013451\n",
       "GH43   0.021642  0.011569  0.012771\n",
       "GH130  0.020508  0.025642  0.025407\n",
       "GH95   0.019491  0.021303  0.014729\n",
       "GH29   0.017079  0.022804  0.012142\n",
       "GH51   0.016740  0.022934  0.013017\n",
       "GH31   0.016302  0.012913  0.013560\n",
       "GH57   0.013734  0.023691  0.031793\n",
       "GH77   0.013022  0.014114  0.014673\n",
       "GH65   0.012433  0.011712  0.011683\n",
       "GH127  0.010862  0.012388  0.011703\n",
       "GH4    0.010725  0.016685  0.012286"
      ]
     },
     "execution_count": 23,
     "metadata": {},
     "output_type": "execute_result"
    }
   ],
   "source": [
    "abundance.dropna()"
   ]
  },
  {
   "cell_type": "code",
   "execution_count": 24,
   "metadata": {
    "collapsed": false
   },
   "outputs": [
    {
     "data": {
      "text/plain": [
       "2     0.728306\n",
       "6     0.789736\n",
       "15    0.768703\n",
       "dtype: float64"
      ]
     },
     "execution_count": 24,
     "metadata": {},
     "output_type": "execute_result"
    }
   ],
   "source": [
    "abundance.sum()"
   ]
  },
  {
   "cell_type": "code",
   "execution_count": 25,
   "metadata": {
    "collapsed": false
   },
   "outputs": [
    {
     "data": {
      "text/html": [
       "<div>\n",
       "<table border=\"1\" class=\"dataframe\">\n",
       "  <thead>\n",
       "    <tr style=\"text-align: right;\">\n",
       "      <th></th>\n",
       "      <th>2</th>\n",
       "      <th>6</th>\n",
       "      <th>15</th>\n",
       "    </tr>\n",
       "  </thead>\n",
       "  <tbody>\n",
       "    <tr>\n",
       "      <th>count</th>\n",
       "      <td>21.000000</td>\n",
       "      <td>21.000000</td>\n",
       "      <td>21.000000</td>\n",
       "    </tr>\n",
       "    <tr>\n",
       "      <th>mean</th>\n",
       "      <td>0.032765</td>\n",
       "      <td>0.034134</td>\n",
       "      <td>0.034905</td>\n",
       "    </tr>\n",
       "    <tr>\n",
       "      <th>std</th>\n",
       "      <td>0.027512</td>\n",
       "      <td>0.031827</td>\n",
       "      <td>0.037164</td>\n",
       "    </tr>\n",
       "    <tr>\n",
       "      <th>min</th>\n",
       "      <td>0.010725</td>\n",
       "      <td>0.011569</td>\n",
       "      <td>0.011683</td>\n",
       "    </tr>\n",
       "    <tr>\n",
       "      <th>25%</th>\n",
       "      <td>0.016302</td>\n",
       "      <td>0.016446</td>\n",
       "      <td>0.013017</td>\n",
       "    </tr>\n",
       "    <tr>\n",
       "      <th>50%</th>\n",
       "      <td>0.021642</td>\n",
       "      <td>0.022934</td>\n",
       "      <td>0.016527</td>\n",
       "    </tr>\n",
       "    <tr>\n",
       "      <th>75%</th>\n",
       "      <td>0.046188</td>\n",
       "      <td>0.045997</td>\n",
       "      <td>0.048334</td>\n",
       "    </tr>\n",
       "    <tr>\n",
       "      <th>max</th>\n",
       "      <td>0.125287</td>\n",
       "      <td>0.155167</td>\n",
       "      <td>0.173755</td>\n",
       "    </tr>\n",
       "  </tbody>\n",
       "</table>\n",
       "</div>"
      ],
      "text/plain": [
       "              2          6          15\n",
       "count  21.000000  21.000000  21.000000\n",
       "mean    0.032765   0.034134   0.034905\n",
       "std     0.027512   0.031827   0.037164\n",
       "min     0.010725   0.011569   0.011683\n",
       "25%     0.016302   0.016446   0.013017\n",
       "50%     0.021642   0.022934   0.016527\n",
       "75%     0.046188   0.045997   0.048334\n",
       "max     0.125287   0.155167   0.173755"
      ]
     },
     "execution_count": 25,
     "metadata": {},
     "output_type": "execute_result"
    }
   ],
   "source": [
    "abundance.dropna().describe()"
   ]
  },
  {
   "cell_type": "markdown",
   "metadata": {},
   "source": [
    "### Using families with relative abundance >1% in any depth"
   ]
  },
  {
   "cell_type": "code",
   "execution_count": 26,
   "metadata": {
    "collapsed": true
   },
   "outputs": [],
   "source": [
    "families_to_track = abundance.index\n",
    "\n",
    "any_abundances_per_depth = {}\n",
    "\n",
    "for depth in DEPTHS:\n",
    "    counts = samples_per_depth[depth]['families'].value_counts()\n",
    "    most_common = counts[families_to_track]\n",
    "\n",
    "    any_abundances_per_depth[depth] = most_common / samples_per_depth[depth]['families'].count()"
   ]
  },
  {
   "cell_type": "code",
   "execution_count": 27,
   "metadata": {
    "collapsed": true
   },
   "outputs": [],
   "source": [
    "abundance = pd.DataFrame(any_abundances_per_depth)\n",
    "abundance.sort_values(by=2, ascending=False, inplace=True)"
   ]
  },
  {
   "cell_type": "code",
   "execution_count": 28,
   "metadata": {
    "collapsed": false
   },
   "outputs": [
    {
     "data": {
      "text/plain": [
       "<matplotlib.legend.Legend at 0x7f7fef8d37f0>"
      ]
     },
     "execution_count": 28,
     "metadata": {},
     "output_type": "execute_result"
    },
    {
     "data": {
      "image/png": "[encoded data removed]",
      "text/plain": [
       "<matplotlib.figure.Figure at 0x7f7fecbd90b8>"
      ]
     },
     "metadata": {},
     "output_type": "display_data"
    }
   ],
   "source": [
    "ax = abundance.dropna().plot.bar(width=.75)\n",
    "ax.set_ylabel(\"Relative abundance\")\n",
    "ax.set_xlabel(\"Families\")\n",
    "ax.legend(loc='best', title=\"Depth\")"
   ]
  },
  {
   "cell_type": "code",
   "execution_count": 29,
   "metadata": {
    "collapsed": false
   },
   "outputs": [
    {
     "data": {
      "text/html": [
       "<div>\n",
       "<table border=\"1\" class=\"dataframe\">\n",
       "  <thead>\n",
       "    <tr style=\"text-align: right;\">\n",
       "      <th></th>\n",
       "      <th>2</th>\n",
       "      <th>6</th>\n",
       "      <th>15</th>\n",
       "    </tr>\n",
       "  </thead>\n",
       "  <tbody>\n",
       "    <tr>\n",
       "      <th>GH13</th>\n",
       "      <td>0.125287</td>\n",
       "      <td>0.155167</td>\n",
       "      <td>0.173755</td>\n",
       "    </tr>\n",
       "    <tr>\n",
       "      <th>GT35</th>\n",
       "      <td>0.070395</td>\n",
       "      <td>0.055138</td>\n",
       "      <td>0.073662</td>\n",
       "    </tr>\n",
       "    <tr>\n",
       "      <th>GT2</th>\n",
       "      <td>0.061735</td>\n",
       "      <td>0.057682</td>\n",
       "      <td>0.052265</td>\n",
       "    </tr>\n",
       "    <tr>\n",
       "      <th>CBM48</th>\n",
       "      <td>0.052128</td>\n",
       "      <td>0.048725</td>\n",
       "      <td>0.053251</td>\n",
       "    </tr>\n",
       "    <tr>\n",
       "      <th>GT4</th>\n",
       "      <td>0.046303</td>\n",
       "      <td>0.051877</td>\n",
       "      <td>0.062161</td>\n",
       "    </tr>\n",
       "    <tr>\n",
       "      <th>GH2</th>\n",
       "      <td>0.046188</td>\n",
       "      <td>0.042832</td>\n",
       "      <td>0.048334</td>\n",
       "    </tr>\n",
       "    <tr>\n",
       "      <th>GH3</th>\n",
       "      <td>0.038874</td>\n",
       "      <td>0.045997</td>\n",
       "      <td>0.036579</td>\n",
       "    </tr>\n",
       "    <tr>\n",
       "      <th>GT51</th>\n",
       "      <td>0.026767</td>\n",
       "      <td>0.016446</td>\n",
       "      <td>0.016527</td>\n",
       "    </tr>\n",
       "    <tr>\n",
       "      <th>GH94</th>\n",
       "      <td>0.024234</td>\n",
       "      <td>0.030505</td>\n",
       "      <td>0.029259</td>\n",
       "    </tr>\n",
       "    <tr>\n",
       "      <th>GH0</th>\n",
       "      <td>0.023610</td>\n",
       "      <td>0.016692</td>\n",
       "      <td>0.013451</td>\n",
       "    </tr>\n",
       "    <tr>\n",
       "      <th>GH43</th>\n",
       "      <td>0.021642</td>\n",
       "      <td>0.011569</td>\n",
       "      <td>0.012771</td>\n",
       "    </tr>\n",
       "    <tr>\n",
       "      <th>GH130</th>\n",
       "      <td>0.020508</td>\n",
       "      <td>0.025642</td>\n",
       "      <td>0.025407</td>\n",
       "    </tr>\n",
       "    <tr>\n",
       "      <th>GH95</th>\n",
       "      <td>0.019491</td>\n",
       "      <td>0.021303</td>\n",
       "      <td>0.014729</td>\n",
       "    </tr>\n",
       "    <tr>\n",
       "      <th>GH29</th>\n",
       "      <td>0.017079</td>\n",
       "      <td>0.022804</td>\n",
       "      <td>0.012142</td>\n",
       "    </tr>\n",
       "    <tr>\n",
       "      <th>GH51</th>\n",
       "      <td>0.016740</td>\n",
       "      <td>0.022934</td>\n",
       "      <td>0.013017</td>\n",
       "    </tr>\n",
       "    <tr>\n",
       "      <th>GH78</th>\n",
       "      <td>0.016304</td>\n",
       "      <td>0.010860</td>\n",
       "      <td>0.009624</td>\n",
       "    </tr>\n",
       "    <tr>\n",
       "      <th>GH31</th>\n",
       "      <td>0.016302</td>\n",
       "      <td>0.012913</td>\n",
       "      <td>0.013560</td>\n",
       "    </tr>\n",
       "    <tr>\n",
       "      <th>GH57</th>\n",
       "      <td>0.013734</td>\n",
       "      <td>0.023691</td>\n",
       "      <td>0.031793</td>\n",
       "    </tr>\n",
       "    <tr>\n",
       "      <th>GH77</th>\n",
       "      <td>0.013022</td>\n",
       "      <td>0.014114</td>\n",
       "      <td>0.014673</td>\n",
       "    </tr>\n",
       "    <tr>\n",
       "      <th>GH65</th>\n",
       "      <td>0.012433</td>\n",
       "      <td>0.011712</td>\n",
       "      <td>0.011683</td>\n",
       "    </tr>\n",
       "    <tr>\n",
       "      <th>GH23</th>\n",
       "      <td>0.012257</td>\n",
       "      <td>0.006433</td>\n",
       "      <td>0.007229</td>\n",
       "    </tr>\n",
       "    <tr>\n",
       "      <th>CE11</th>\n",
       "      <td>0.011684</td>\n",
       "      <td>0.008145</td>\n",
       "      <td>0.007690</td>\n",
       "    </tr>\n",
       "    <tr>\n",
       "      <th>GH127</th>\n",
       "      <td>0.010862</td>\n",
       "      <td>0.012388</td>\n",
       "      <td>0.011703</td>\n",
       "    </tr>\n",
       "    <tr>\n",
       "      <th>GH4</th>\n",
       "      <td>0.010725</td>\n",
       "      <td>0.016685</td>\n",
       "      <td>0.012286</td>\n",
       "    </tr>\n",
       "    <tr>\n",
       "      <th>GT5</th>\n",
       "      <td>0.009031</td>\n",
       "      <td>0.010914</td>\n",
       "      <td>0.007851</td>\n",
       "    </tr>\n",
       "    <tr>\n",
       "      <th>AA2</th>\n",
       "      <td>0.008280</td>\n",
       "      <td>0.010225</td>\n",
       "      <td>0.010443</td>\n",
       "    </tr>\n",
       "    <tr>\n",
       "      <th>PL11</th>\n",
       "      <td>0.008159</td>\n",
       "      <td>0.011221</td>\n",
       "      <td>0.007977</td>\n",
       "    </tr>\n",
       "    <tr>\n",
       "      <th>GH1</th>\n",
       "      <td>0.006749</td>\n",
       "      <td>0.014107</td>\n",
       "      <td>0.013793</td>\n",
       "    </tr>\n",
       "    <tr>\n",
       "      <th>CBM6</th>\n",
       "      <td>0.005356</td>\n",
       "      <td>0.015594</td>\n",
       "      <td>0.006003</td>\n",
       "    </tr>\n",
       "    <tr>\n",
       "      <th>GH15</th>\n",
       "      <td>0.004771</td>\n",
       "      <td>0.003765</td>\n",
       "      <td>0.011459</td>\n",
       "    </tr>\n",
       "  </tbody>\n",
       "</table>\n",
       "</div>"
      ],
      "text/plain": [
       "             2         6         15\n",
       "GH13   0.125287  0.155167  0.173755\n",
       "GT35   0.070395  0.055138  0.073662\n",
       "GT2    0.061735  0.057682  0.052265\n",
       "CBM48  0.052128  0.048725  0.053251\n",
       "GT4    0.046303  0.051877  0.062161\n",
       "GH2    0.046188  0.042832  0.048334\n",
       "GH3    0.038874  0.045997  0.036579\n",
       "GT51   0.026767  0.016446  0.016527\n",
       "GH94   0.024234  0.030505  0.029259\n",
       "GH0    0.023610  0.016692  0.013451\n",
       "GH43   0.021642  0.011569  0.012771\n",
       "GH130  0.020508  0.025642  0.025407\n",
       "GH95   0.019491  0.021303  0.014729\n",
       "GH29   0.017079  0.022804  0.012142\n",
       "GH51   0.016740  0.022934  0.013017\n",
       "GH78   0.016304  0.010860  0.009624\n",
       "GH31   0.016302  0.012913  0.013560\n",
       "GH57   0.013734  0.023691  0.031793\n",
       "GH77   0.013022  0.014114  0.014673\n",
       "GH65   0.012433  0.011712  0.011683\n",
       "GH23   0.012257  0.006433  0.007229\n",
       "CE11   0.011684  0.008145  0.007690\n",
       "GH127  0.010862  0.012388  0.011703\n",
       "GH4    0.010725  0.016685  0.012286\n",
       "GT5    0.009031  0.010914  0.007851\n",
       "AA2    0.008280  0.010225  0.010443\n",
       "PL11   0.008159  0.011221  0.007977\n",
       "GH1    0.006749  0.014107  0.013793\n",
       "CBM6   0.005356  0.015594  0.006003\n",
       "GH15   0.004771  0.003765  0.011459"
      ]
     },
     "execution_count": 29,
     "metadata": {},
     "output_type": "execute_result"
    }
   ],
   "source": [
    "abundance"
   ]
  },
  {
   "cell_type": "code",
   "execution_count": 30,
   "metadata": {
    "collapsed": false
   },
   "outputs": [
    {
     "data": {
      "text/plain": [
       "2     0.770652\n",
       "6     0.808079\n",
       "15    0.815076\n",
       "dtype: float64"
      ]
     },
     "execution_count": 30,
     "metadata": {},
     "output_type": "execute_result"
    }
   ],
   "source": [
    "abundance.sum()"
   ]
  },
  {
   "cell_type": "code",
   "execution_count": 31,
   "metadata": {
    "collapsed": false
   },
   "outputs": [
    {
     "data": {
      "text/html": [
       "<div>\n",
       "<table border=\"1\" class=\"dataframe\">\n",
       "  <thead>\n",
       "    <tr style=\"text-align: right;\">\n",
       "      <th></th>\n",
       "      <th>2</th>\n",
       "      <th>6</th>\n",
       "      <th>15</th>\n",
       "    </tr>\n",
       "  </thead>\n",
       "  <tbody>\n",
       "    <tr>\n",
       "      <th>count</th>\n",
       "      <td>30.000000</td>\n",
       "      <td>30.000000</td>\n",
       "      <td>30.000000</td>\n",
       "    </tr>\n",
       "    <tr>\n",
       "      <th>mean</th>\n",
       "      <td>0.025688</td>\n",
       "      <td>0.026936</td>\n",
       "      <td>0.027169</td>\n",
       "    </tr>\n",
       "    <tr>\n",
       "      <th>std</th>\n",
       "      <td>0.025429</td>\n",
       "      <td>0.028763</td>\n",
       "      <td>0.033146</td>\n",
       "    </tr>\n",
       "    <tr>\n",
       "      <th>min</th>\n",
       "      <td>0.004771</td>\n",
       "      <td>0.003765</td>\n",
       "      <td>0.006003</td>\n",
       "    </tr>\n",
       "    <tr>\n",
       "      <th>25%</th>\n",
       "      <td>0.011068</td>\n",
       "      <td>0.011605</td>\n",
       "      <td>0.011515</td>\n",
       "    </tr>\n",
       "    <tr>\n",
       "      <th>50%</th>\n",
       "      <td>0.016522</td>\n",
       "      <td>0.016566</td>\n",
       "      <td>0.013505</td>\n",
       "    </tr>\n",
       "    <tr>\n",
       "      <th>75%</th>\n",
       "      <td>0.026134</td>\n",
       "      <td>0.029289</td>\n",
       "      <td>0.031159</td>\n",
       "    </tr>\n",
       "    <tr>\n",
       "      <th>max</th>\n",
       "      <td>0.125287</td>\n",
       "      <td>0.155167</td>\n",
       "      <td>0.173755</td>\n",
       "    </tr>\n",
       "  </tbody>\n",
       "</table>\n",
       "</div>"
      ],
      "text/plain": [
       "              2          6          15\n",
       "count  30.000000  30.000000  30.000000\n",
       "mean    0.025688   0.026936   0.027169\n",
       "std     0.025429   0.028763   0.033146\n",
       "min     0.004771   0.003765   0.006003\n",
       "25%     0.011068   0.011605   0.011515\n",
       "50%     0.016522   0.016566   0.013505\n",
       "75%     0.026134   0.029289   0.031159\n",
       "max     0.125287   0.155167   0.173755"
      ]
     },
     "execution_count": 31,
     "metadata": {},
     "output_type": "execute_result"
    }
   ],
   "source": [
    "abundance.describe()"
   ]
  },
  {
   "cell_type": "markdown",
   "metadata": {},
   "source": [
    "## Calculating mean and standard deviation\n",
    "\n",
    "First we group results by depth and replicates. This is an example of the first hit for each depth and replicate:"
   ]
  },
  {
   "cell_type": "code",
   "execution_count": 32,
   "metadata": {
    "collapsed": false
   },
   "outputs": [
    {
     "data": {
      "text/html": [
       "<div>\n",
       "<table border=\"1\" class=\"dataframe\">\n",
       "  <thead>\n",
       "    <tr style=\"text-align: right;\">\n",
       "      <th></th>\n",
       "      <th></th>\n",
       "      <th>query</th>\n",
       "      <th>subject</th>\n",
       "      <th>percent_id</th>\n",
       "      <th>alignment_length</th>\n",
       "      <th>mismatches</th>\n",
       "      <th>gap_openings</th>\n",
       "      <th>q_start</th>\n",
       "      <th>q_end</th>\n",
       "      <th>s_start</th>\n",
       "      <th>s_end</th>\n",
       "      <th>e_value</th>\n",
       "      <th>bit_score</th>\n",
       "      <th>family</th>\n",
       "    </tr>\n",
       "    <tr>\n",
       "      <th>depth</th>\n",
       "      <th>rep</th>\n",
       "      <th></th>\n",
       "      <th></th>\n",
       "      <th></th>\n",
       "      <th></th>\n",
       "      <th></th>\n",
       "      <th></th>\n",
       "      <th></th>\n",
       "      <th></th>\n",
       "      <th></th>\n",
       "      <th></th>\n",
       "      <th></th>\n",
       "      <th></th>\n",
       "      <th></th>\n",
       "    </tr>\n",
       "  </thead>\n",
       "  <tbody>\n",
       "    <tr>\n",
       "      <th rowspan=\"3\" valign=\"top\">2</th>\n",
       "      <th>1</th>\n",
       "      <td>DCV4KXP1:244:C3ETWACXX:7:1101:8471:2362</td>\n",
       "      <td>ADG89028.1|GH43</td>\n",
       "      <td>75.4</td>\n",
       "      <td>57</td>\n",
       "      <td>14</td>\n",
       "      <td>0</td>\n",
       "      <td>1</td>\n",
       "      <td>171</td>\n",
       "      <td>30</td>\n",
       "      <td>86</td>\n",
       "      <td>5.200000e-20</td>\n",
       "      <td>98.2</td>\n",
       "      <td>GH43</td>\n",
       "    </tr>\n",
       "    <tr>\n",
       "      <th>2</th>\n",
       "      <td>DCV4KXP1:244:C3ETWACXX:7:1101:20849:2985</td>\n",
       "      <td>AFL74598.1|GT2</td>\n",
       "      <td>83.7</td>\n",
       "      <td>43</td>\n",
       "      <td>7</td>\n",
       "      <td>0</td>\n",
       "      <td>1</td>\n",
       "      <td>129</td>\n",
       "      <td>1666</td>\n",
       "      <td>1708</td>\n",
       "      <td>3.500000e-13</td>\n",
       "      <td>75.1</td>\n",
       "      <td>GT2</td>\n",
       "    </tr>\n",
       "    <tr>\n",
       "      <th>3</th>\n",
       "      <td>DCV4KXP1:244:C3ETWACXX:7:1101:10947:2751</td>\n",
       "      <td>ACY02049.1|GH117</td>\n",
       "      <td>47.0</td>\n",
       "      <td>115</td>\n",
       "      <td>9</td>\n",
       "      <td>1</td>\n",
       "      <td>192</td>\n",
       "      <td>4</td>\n",
       "      <td>195</td>\n",
       "      <td>309</td>\n",
       "      <td>2.000000e-20</td>\n",
       "      <td>99.8</td>\n",
       "      <td>GT4</td>\n",
       "    </tr>\n",
       "    <tr>\n",
       "      <th rowspan=\"3\" valign=\"top\">6</th>\n",
       "      <th>1</th>\n",
       "      <td>DCV4KXP1:244:C3ETWACXX:7:1101:2154:2988</td>\n",
       "      <td>AHO16406.1|GH13</td>\n",
       "      <td>68.9</td>\n",
       "      <td>61</td>\n",
       "      <td>19</td>\n",
       "      <td>0</td>\n",
       "      <td>185</td>\n",
       "      <td>3</td>\n",
       "      <td>170</td>\n",
       "      <td>230</td>\n",
       "      <td>1.500000e-17</td>\n",
       "      <td>90.1</td>\n",
       "      <td>GH13</td>\n",
       "    </tr>\n",
       "    <tr>\n",
       "      <th>2</th>\n",
       "      <td>DCV4KXP1:244:C3ETWACXX:7:1101:3189:3697</td>\n",
       "      <td>AEI64652.1|GH1</td>\n",
       "      <td>42.4</td>\n",
       "      <td>99</td>\n",
       "      <td>18</td>\n",
       "      <td>1</td>\n",
       "      <td>2</td>\n",
       "      <td>181</td>\n",
       "      <td>91</td>\n",
       "      <td>189</td>\n",
       "      <td>1.800000e-15</td>\n",
       "      <td>83.2</td>\n",
       "      <td>CBM6</td>\n",
       "    </tr>\n",
       "    <tr>\n",
       "      <th>3</th>\n",
       "      <td>DCV4KXP1:244:C3ETWACXX:7:1101:4013:2572</td>\n",
       "      <td>ACL70506.1|CE11</td>\n",
       "      <td>54.0</td>\n",
       "      <td>63</td>\n",
       "      <td>29</td>\n",
       "      <td>0</td>\n",
       "      <td>5</td>\n",
       "      <td>193</td>\n",
       "      <td>81</td>\n",
       "      <td>143</td>\n",
       "      <td>4.800000e-11</td>\n",
       "      <td>68.6</td>\n",
       "      <td>CBM6</td>\n",
       "    </tr>\n",
       "    <tr>\n",
       "      <th rowspan=\"3\" valign=\"top\">15</th>\n",
       "      <th>1</th>\n",
       "      <td>DCV4KXP1:244:C3ETWACXX:7:1101:13454:3214</td>\n",
       "      <td>AMV35491.1|CBM51</td>\n",
       "      <td>77.5</td>\n",
       "      <td>40</td>\n",
       "      <td>9</td>\n",
       "      <td>0</td>\n",
       "      <td>2</td>\n",
       "      <td>121</td>\n",
       "      <td>340</td>\n",
       "      <td>379</td>\n",
       "      <td>3.200000e-13</td>\n",
       "      <td>75.1</td>\n",
       "      <td>CBM51</td>\n",
       "    </tr>\n",
       "    <tr>\n",
       "      <th>2</th>\n",
       "      <td>DCV4KXP1:244:C3ETWACXX:7:1101:5150:2375</td>\n",
       "      <td>AGP33317.1|GH8</td>\n",
       "      <td>76.3</td>\n",
       "      <td>59</td>\n",
       "      <td>14</td>\n",
       "      <td>0</td>\n",
       "      <td>3</td>\n",
       "      <td>179</td>\n",
       "      <td>334</td>\n",
       "      <td>392</td>\n",
       "      <td>5.600000e-22</td>\n",
       "      <td>104.8</td>\n",
       "      <td>GH8</td>\n",
       "    </tr>\n",
       "    <tr>\n",
       "      <th>3</th>\n",
       "      <td>DCV4KXP1:244:C3ETWACXX:7:1101:19175:2271</td>\n",
       "      <td>ABN57689.1|GT4</td>\n",
       "      <td>63.0</td>\n",
       "      <td>46</td>\n",
       "      <td>17</td>\n",
       "      <td>0</td>\n",
       "      <td>22</td>\n",
       "      <td>159</td>\n",
       "      <td>116</td>\n",
       "      <td>161</td>\n",
       "      <td>1.300000e-12</td>\n",
       "      <td>73.6</td>\n",
       "      <td>GT4</td>\n",
       "    </tr>\n",
       "  </tbody>\n",
       "</table>\n",
       "</div>"
      ],
      "text/plain": [
       "                                              query           subject  \\\n",
       "depth rep                                                               \n",
       "2     1     DCV4KXP1:244:C3ETWACXX:7:1101:8471:2362   ADG89028.1|GH43   \n",
       "      2    DCV4KXP1:244:C3ETWACXX:7:1101:20849:2985    AFL74598.1|GT2   \n",
       "      3    DCV4KXP1:244:C3ETWACXX:7:1101:10947:2751  ACY02049.1|GH117   \n",
       "6     1     DCV4KXP1:244:C3ETWACXX:7:1101:2154:2988   AHO16406.1|GH13   \n",
       "      2     DCV4KXP1:244:C3ETWACXX:7:1101:3189:3697    AEI64652.1|GH1   \n",
       "      3     DCV4KXP1:244:C3ETWACXX:7:1101:4013:2572   ACL70506.1|CE11   \n",
       "15    1    DCV4KXP1:244:C3ETWACXX:7:1101:13454:3214  AMV35491.1|CBM51   \n",
       "      2     DCV4KXP1:244:C3ETWACXX:7:1101:5150:2375    AGP33317.1|GH8   \n",
       "      3    DCV4KXP1:244:C3ETWACXX:7:1101:19175:2271    ABN57689.1|GT4   \n",
       "\n",
       "           percent_id  alignment_length  mismatches  gap_openings  q_start  \\\n",
       "depth rep                                                                    \n",
       "2     1          75.4                57          14             0        1   \n",
       "      2          83.7                43           7             0        1   \n",
       "      3          47.0               115           9             1      192   \n",
       "6     1          68.9                61          19             0      185   \n",
       "      2          42.4                99          18             1        2   \n",
       "      3          54.0                63          29             0        5   \n",
       "15    1          77.5                40           9             0        2   \n",
       "      2          76.3                59          14             0        3   \n",
       "      3          63.0                46          17             0       22   \n",
       "\n",
       "           q_end  s_start  s_end       e_value  bit_score family  \n",
       "depth rep                                                         \n",
       "2     1      171       30     86  5.200000e-20       98.2   GH43  \n",
       "      2      129     1666   1708  3.500000e-13       75.1    GT2  \n",
       "      3        4      195    309  2.000000e-20       99.8    GT4  \n",
       "6     1        3      170    230  1.500000e-17       90.1   GH13  \n",
       "      2      181       91    189  1.800000e-15       83.2   CBM6  \n",
       "      3      193       81    143  4.800000e-11       68.6   CBM6  \n",
       "15    1      121      340    379  3.200000e-13       75.1  CBM51  \n",
       "      2      179      334    392  5.600000e-22      104.8    GH8  \n",
       "      3      159      116    161  1.300000e-12       73.6    GT4  "
      ]
     },
     "execution_count": 32,
     "metadata": {},
     "output_type": "execute_result"
    }
   ],
   "source": [
    "d = samples_df.groupby(('depth', 'rep'))\n",
    "d.first()"
   ]
  },
  {
   "cell_type": "markdown",
   "metadata": {},
   "source": [
    "Next, we need to count how many times each family occured in each depth and replicate:"
   ]
  },
  {
   "cell_type": "code",
   "execution_count": 33,
   "metadata": {
    "collapsed": false,
    "scrolled": true
   },
   "outputs": [
    {
     "data": {
      "text/plain": [
       "depth  rep  family\n",
       "2      1    GH13      33542\n",
       "            GT35      17820\n",
       "            GT2       16660\n",
       "            CBM48     13041\n",
       "            GH2       12956\n",
       "Name: family, dtype: int64"
      ]
     },
     "execution_count": 33,
     "metadata": {},
     "output_type": "execute_result"
    }
   ],
   "source": [
    "f = d['family'].value_counts()\n",
    "f.head()"
   ]
  },
  {
   "cell_type": "markdown",
   "metadata": {},
   "source": [
    "And we can want to sum all matches per depth and replicate to calculate the relative abundance:"
   ]
  },
  {
   "cell_type": "code",
   "execution_count": 34,
   "metadata": {
    "collapsed": false
   },
   "outputs": [
    {
     "data": {
      "text/plain": [
       "depth  rep\n",
       "2      1      271225\n",
       "       2       94206\n",
       "       3      145787\n",
       "6      1       53681\n",
       "       2       30190\n",
       "       3       62726\n",
       "15     1      125369\n",
       "       2      351935\n",
       "       3       80584\n",
       "Name: family, dtype: int64"
      ]
     },
     "execution_count": 34,
     "metadata": {},
     "output_type": "execute_result"
    }
   ],
   "source": [
    "totals = f.sum(level=('depth', 'rep'))\n",
    "totals"
   ]
  },
  {
   "cell_type": "code",
   "execution_count": 35,
   "metadata": {
    "collapsed": false,
    "scrolled": true
   },
   "outputs": [
    {
     "data": {
      "text/plain": [
       "family  depth  rep\n",
       "AA0     15     2      0.000017\n",
       "               3      0.000050\n",
       "AA1     2      1      0.000435\n",
       "               2      0.000212\n",
       "AA10    2      1      0.000229\n",
       "               2      0.000021\n",
       "               3      0.000034\n",
       "        6      1      0.000019\n",
       "        15     2      0.000031\n",
       "               3      0.000099\n",
       "AA11    15     2      0.000003\n",
       "AA12    6      1      0.000019\n",
       "AA2     2      1      0.007614\n",
       "               2      0.008577\n",
       "               3      0.009329\n",
       "        6      1      0.011065\n",
       "               2      0.008480\n",
       "               3      0.010347\n",
       "        15     1      0.009005\n",
       "               2      0.011843\n",
       "               3      0.006565\n",
       "AA3     2      1      0.007433\n",
       "               2      0.001560\n",
       "               3      0.009617\n",
       "        6      1      0.003912\n",
       "               2      0.000166\n",
       "        15     1      0.000798\n",
       "               2      0.002262\n",
       "               3      0.008314\n",
       "AA4     15     2      0.000048\n",
       "                        ...   \n",
       "PL6     15     1      0.000064\n",
       "               2      0.000170\n",
       "               3      0.000099\n",
       "PL7     2      1      0.000055\n",
       "               2      0.000127\n",
       "               3      0.000048\n",
       "        6      1      0.000168\n",
       "               2      0.000199\n",
       "               3      0.000080\n",
       "        15     1      0.000128\n",
       "               2      0.000028\n",
       "               3      0.000099\n",
       "PL8     2      1      0.000066\n",
       "               2      0.000180\n",
       "               3      0.000130\n",
       "        6      1      0.000037\n",
       "               2      0.000033\n",
       "               3      0.000096\n",
       "        15     1      0.000040\n",
       "               2      0.000020\n",
       "               3      0.000099\n",
       "PL9     2      1      0.000409\n",
       "               2      0.000584\n",
       "               3      0.000254\n",
       "        6      1      0.000019\n",
       "               2      0.000364\n",
       "               3      0.000462\n",
       "        15     1      0.000231\n",
       "               2      0.000202\n",
       "               3      0.000496\n",
       "dtype: float64"
      ]
     },
     "execution_count": 35,
     "metadata": {},
     "output_type": "execute_result"
    }
   ],
   "source": [
    "frel = (f.unstack(level=('depth', 'rep')) / totals).stack(level=('depth', 'rep'))\n",
    "frel"
   ]
  },
  {
   "cell_type": "code",
   "execution_count": 36,
   "metadata": {
    "collapsed": false,
    "scrolled": true
   },
   "outputs": [
    {
     "data": {
      "text/plain": [
       "depth  family\n",
       "2      AA1       0.000158\n",
       "       AA10      0.000116\n",
       "       AA2       0.000860\n",
       "       AA3       0.004167\n",
       "       AA5       0.000007\n",
       "dtype: float64"
      ]
     },
     "execution_count": 36,
     "metadata": {},
     "output_type": "execute_result"
    }
   ],
   "source": [
    "#std_err = frel.sem(level=('depth', 'family'))\n",
    "std_err = frel.std(level=('depth', 'family'))\n",
    "std_err.head()"
   ]
  },
  {
   "cell_type": "code",
   "execution_count": 37,
   "metadata": {
    "collapsed": false,
    "scrolled": true
   },
   "outputs": [
    {
     "data": {
      "text/plain": [
       "depth  family\n",
       "2      AA1       0.000324\n",
       "       AA10      0.000095\n",
       "       AA2       0.008506\n",
       "       AA3       0.006203\n",
       "       AA5       0.000024\n",
       "       AA6       0.006228\n",
       "       AA7       0.000409\n",
       "       CBM0      0.000492\n",
       "       CBM1      0.000047\n",
       "       CBM10     0.000292\n",
       "       CBM11     0.000206\n",
       "       CBM12     0.000064\n",
       "       CBM13     0.001747\n",
       "       CBM14     0.000046\n",
       "       CBM16     0.000011\n",
       "       CBM18     0.000032\n",
       "       CBM2      0.002017\n",
       "       CBM20     0.000264\n",
       "       CBM22     0.000230\n",
       "       CBM23     0.000042\n",
       "       CBM25     0.000094\n",
       "       CBM26     0.000175\n",
       "       CBM27     0.000056\n",
       "       CBM3      0.002545\n",
       "       CBM30     0.000027\n",
       "       CBM32     0.001651\n",
       "       CBM34     0.000710\n",
       "       CBM35     0.001223\n",
       "       CBM36     0.000067\n",
       "       CBM37     0.000044\n",
       "                   ...   \n",
       "15     GT8       0.000059\n",
       "       GT81      0.004550\n",
       "       GT83      0.000179\n",
       "       GT84      0.007660\n",
       "       GT87      0.001241\n",
       "       GT89      0.000616\n",
       "       GT9       0.000527\n",
       "       GT93      0.000003\n",
       "       GT94      0.000012\n",
       "       GT96      0.000012\n",
       "       GT99      0.000037\n",
       "       PL0       0.000438\n",
       "       PL1       0.005595\n",
       "       PL10      0.000731\n",
       "       PL11      0.007500\n",
       "       PL12      0.000149\n",
       "       PL14      0.000024\n",
       "       PL15      0.000011\n",
       "       PL17      0.000003\n",
       "       PL2       0.000012\n",
       "       PL20      0.000006\n",
       "       PL21      0.000024\n",
       "       PL22      0.000163\n",
       "       PL24      0.000009\n",
       "       PL3       0.000293\n",
       "       PL4       0.000003\n",
       "       PL6       0.000111\n",
       "       PL7       0.000085\n",
       "       PL8       0.000053\n",
       "       PL9       0.000310\n",
       "dtype: float64"
      ]
     },
     "execution_count": 37,
     "metadata": {},
     "output_type": "execute_result"
    }
   ],
   "source": [
    "m = frel.mean(level=('depth', 'family'))\n",
    "m"
   ]
  },
  {
   "cell_type": "code",
   "execution_count": 38,
   "metadata": {
    "collapsed": false,
    "scrolled": true
   },
   "outputs": [
    {
     "data": {
      "text/plain": [
       "depth  family\n",
       "2      CBM48     0.054062\n",
       "       CE11      0.011316\n",
       "       GH0       0.024376\n",
       "       GH127     0.010259\n",
       "       GH13      0.127140\n",
       "       GH130     0.019272\n",
       "       GH2       0.045911\n",
       "       GH23      0.012476\n",
       "       GH29      0.017082\n",
       "       GH3       0.038381\n",
       "       GH31      0.015756\n",
       "       GH4       0.010870\n",
       "       GH43      0.020392\n",
       "       GH51      0.016409\n",
       "       GH57      0.013689\n",
       "       GH65      0.011890\n",
       "       GH77      0.011886\n",
       "       GH78      0.016659\n",
       "       GH94      0.024944\n",
       "       GH95      0.019648\n",
       "       GT2       0.061418\n",
       "       GT35      0.071168\n",
       "       GT4       0.047240\n",
       "       GT51      0.027500\n",
       "6      CBM48     0.050580\n",
       "       CBM6      0.017200\n",
       "       GH0       0.018115\n",
       "       GH1       0.013943\n",
       "       GH127     0.012961\n",
       "       GH13      0.158536\n",
       "                   ...   \n",
       "       GT2       0.057030\n",
       "       GT35      0.054761\n",
       "       GT4       0.050476\n",
       "       GT5       0.010505\n",
       "       GT51      0.016157\n",
       "       PL11      0.010870\n",
       "15     AA6       0.011180\n",
       "       CBM48     0.056604\n",
       "       GH0       0.013309\n",
       "       GH1       0.013782\n",
       "       GH127     0.011477\n",
       "       GH13      0.181635\n",
       "       GH130     0.024083\n",
       "       GH15      0.010995\n",
       "       GH2       0.045413\n",
       "       GH29      0.012711\n",
       "       GH3       0.035575\n",
       "       GH31      0.011886\n",
       "       GH4       0.014744\n",
       "       GH43      0.011266\n",
       "       GH51      0.013888\n",
       "       GH57      0.034634\n",
       "       GH65      0.011223\n",
       "       GH77      0.014546\n",
       "       GH94      0.026893\n",
       "       GH95      0.012134\n",
       "       GT2       0.051463\n",
       "       GT35      0.071761\n",
       "       GT4       0.061487\n",
       "       GT51      0.016334\n",
       "dtype: float64"
      ]
     },
     "execution_count": 38,
     "metadata": {},
     "output_type": "execute_result"
    }
   ],
   "source": [
    "s = m[m > 0.01]\n",
    "s"
   ]
  },
  {
   "cell_type": "code",
   "execution_count": 39,
   "metadata": {
    "collapsed": true
   },
   "outputs": [],
   "source": [
    "import requests\n",
    "from bs4 import BeautifulSoup\n",
    "\n",
    "def extract_names(url):\n",
    "    data = requests.get(url)\n",
    "    soup = BeautifulSoup(data.content, 'html.parser')\n",
    "    return \"\".join(soup.find('td', class_='tdsum').strings).split('; ')"
   ]
  },
  {
   "cell_type": "markdown",
   "metadata": {},
   "source": [
    "Each family can have many different known activities:"
   ]
  },
  {
   "cell_type": "code",
   "execution_count": 40,
   "metadata": {
    "collapsed": false
   },
   "outputs": [
    {
     "data": {
      "text/plain": [
       "['α-amylase (EC 3.2.1.1)',\n",
       " 'pullulanase (EC 3.2.1.41)',\n",
       " 'cyclomaltodextrin glucanotransferase (EC 2.4.1.19)',\n",
       " 'cyclomaltodextrinase (EC 3.2.1.54)',\n",
       " 'trehalose-6-phosphate hydrolase (EC 3.2.1.93)',\n",
       " 'oligo-α-glucosidase (EC 3.2.1.10)',\n",
       " 'maltogenic amylase (EC 3.2.1.133)',\n",
       " 'neopullulanase (EC 3.2.1.135)',\n",
       " 'α-glucosidase (EC 3.2.1.20)',\n",
       " 'maltotetraose-forming α-amylase (EC 3.2.1.60)',\n",
       " 'isoamylase (EC 3.2.1.68)',\n",
       " 'glucodextranase (EC 3.2.1.70)',\n",
       " 'maltohexaose-forming α-amylase (EC 3.2.1.98)',\n",
       " 'maltotriose-forming α-amylase (EC 3.2.1.116)',\n",
       " 'branching enzyme (EC 2.4.1.18)',\n",
       " 'trehalose synthase (EC 5.4.99.16)',\n",
       " '4-α-glucanotransferase (EC 2.4.1.25)',\n",
       " 'maltopentaose-forming α-amylase (EC 3.2.1.-) ',\n",
       " 'amylosucrase (EC 2.4.1.4) ',\n",
       " 'sucrose phosphorylase (EC 2.4.1.7)',\n",
       " 'malto-oligosyltrehalose trehalohydrolase (EC 3.2.1.141)',\n",
       " 'isomaltulose synthase (EC 5.4.99.11)',\n",
       " 'malto-oligosyltrehalose synthase (EC 5.4.99.15)',\n",
       " 'amylo-α-1,6-glucosidase (EC 3.2.1.33)',\n",
       " 'α-1,4-glucan: phosphate α-maltosyltransferase (EC 2.4.99.16)',\n",
       " '6?-P-sucrose phosphorylase (EC 2.4.1.-)',\n",
       " 'amino acid transporter']"
      ]
     },
     "execution_count": 40,
     "metadata": {},
     "output_type": "execute_result"
    }
   ],
   "source": [
    "extract_names(\"http://www.cazy.org/GH13.html\")"
   ]
  },
  {
   "cell_type": "markdown",
   "metadata": {},
   "source": [
    "I extracted the first known activity to make it fit in the figure:"
   ]
  },
  {
   "cell_type": "code",
   "execution_count": 41,
   "metadata": {
    "collapsed": false
   },
   "outputs": [],
   "source": [
    "names = {}\n",
    "families = s.unstack(level='depth').sort_values(by=2, ascending=False)\n",
    "\n",
    "for f in families.index:\n",
    "    names[f] = extract_names(\"http://www.cazy.org/{}.html\".format(f))[0]"
   ]
  },
  {
   "cell_type": "markdown",
   "metadata": {},
   "source": [
    "But... Known activity is not a good proxy for family name, because families have many known activities and they also share activities in common with others. This means we have 3 activities matching more than one family, and some families have very long names (they are descriptions of how the activities were found):"
   ]
  },
  {
   "cell_type": "code",
   "execution_count": 42,
   "metadata": {
    "collapsed": false,
    "scrolled": true
   },
   "outputs": [
    {
     "data": {
      "text/plain": [
       "β-glucosidase (EC 3.2.1.21)                                                                                                                                                                                                    2\n",
       "α-L-fucosidase (EC 3.2.1.51)                                                                                                                                                                                                   2\n",
       "α-amylase (EC 3.2.1.1)                                                                                                                                                                                                         2\n",
       "endoglucanase (EC 3.2.1.4)                                                                                                                                                                                                     1\n",
       "Glycoside hydrolases not yet assigned to a family.                                                                                                                                                                             1\n",
       "cellobiose phosphorylase (EC 2.4.1.20)                                                                                                                                                                                         1\n",
       "α-glucosidase (EC 3.2.1.20)                                                                                                                                                                                                    1\n",
       "murein polymerase (EC 2.4.1.129).                                                                                                                                                                                              1\n",
       "β-xylosidase (EC 3.2.1.37)                                                                                                                                                                                                     1\n",
       "UDP-Glc: glycogen glucosyltransferase (EC 2.4.1.11)                                                                                                                                                                            1\n",
       "Modules of approx. 100 residues with glycogen-binding function, appended to GH13 modules. Also found in the beta subunit (glycogen-binding) of AMP-activated protein kinases (AMPK)                                            1\n",
       "UDP-3-0-acyl N-acetylglucosamine deacetylase (EC 3.5.1.-).                                                                                                                                                                     1\n",
       "sucrose synthase (EC 2.4.1.13)                                                                                                                                                                                                 1\n",
       "rhamnogalacturonan lyase (EC 4.2.2.-)                                                                                                                                                                                          1\n",
       "Modules of approx. 120 residues. The cellulose-binding function has been demonstrated in one case on amorphous cellulose and β-1,4-xylan. Some of these modules also bind β-1,3-glucan, β-1,3-1,4-glucan, and β-1,4-glucan.    1\n",
       "β-L-arabinofuranosidase (EC 3.2.1.185)                                                                                                                                                                                         1\n",
       "β-1,4-mannosylglucose phosphorylase (EC 2.4.1.281)                                                                                                                                                                             1\n",
       "maltose-6-phosphate glucosidase (EC 3.2.1.122)                                                                                                                                                                                 1\n",
       "α,α-trehalase (EC 3.2.1.28)                                                                                                                                                                                                    1\n",
       "amylomaltase or 4-α-glucanotransferase (EC 2.4.1.25)                                                                                                                                                                           1\n",
       "glycogen or starch phosphorylase (EC 2.4.1.1).                                                                                                                                                                                 1\n",
       "glucoamylase (EC 3.2.1.3)                                                                                                                                                                                                      1\n",
       "α-L-rhamnosidase (EC 3.2.1.40)                                                                                                                                                                                                 1\n",
       "lysozyme type G (EC 3.2.1.17)                                                                                                                                                                                                  1\n",
       "cellulose synthase (EC 2.4.1.12)                                                                                                                                                                                               1\n",
       "1,4-benzoquinone reductase (EC. 1.6.5.6)                                                                                                                                                                                       1\n",
       "β-galactosidase (EC 3.2.1.23)                                                                                                                                                                                                  1\n",
       "dtype: int64"
      ]
     },
     "execution_count": 42,
     "metadata": {},
     "output_type": "execute_result"
    }
   ],
   "source": [
    "fnames = pd.Series(names)\n",
    "fnames.value_counts()"
   ]
  },
  {
   "cell_type": "code",
   "execution_count": 43,
   "metadata": {
    "collapsed": false
   },
   "outputs": [
    {
     "data": {
      "text/plain": [
       "{'AA6': 'AA6: 1,4-benzoquinone reductase (EC. 1.6.5.6)',\n",
       " 'CBM48': 'CBM48: Modules of approx. 100 residues with glycogen-binding function, appended to GH13 modules. Also found in the beta subunit (glycogen-binding) of AMP-activated protein kinases (AMPK)',\n",
       " 'CBM6': 'CBM6: Modules of approx. 120 residues. The cellulose-binding function has been demonstrated in one case on amorphous cellulose and β-1,4-xylan. Some of these modules also bind β-1,3-glucan, β-1,3-1,4-glucan, and β-1,4-glucan.',\n",
       " 'CE11': 'CE11: UDP-3-0-acyl N-acetylglucosamine deacetylase (EC 3.5.1.-).',\n",
       " 'GH0': 'GH0: Glycoside hydrolases not yet assigned to a family. ',\n",
       " 'GH1': 'GH1: β-glucosidase (EC 3.2.1.21)',\n",
       " 'GH127': 'GH127: β-L-arabinofuranosidase (EC 3.2.1.185)',\n",
       " 'GH13': 'GH13: α-amylase (EC 3.2.1.1)',\n",
       " 'GH130': 'GH130: β-1,4-mannosylglucose phosphorylase (EC 2.4.1.281)',\n",
       " 'GH15': 'GH15: glucoamylase (EC 3.2.1.3)',\n",
       " 'GH2': 'GH2: β-galactosidase (EC 3.2.1.23) ',\n",
       " 'GH23': 'GH23: lysozyme type G (EC 3.2.1.17)',\n",
       " 'GH29': 'GH29: α-L-fucosidase (EC 3.2.1.51)',\n",
       " 'GH3': 'GH3: β-glucosidase (EC 3.2.1.21)',\n",
       " 'GH31': 'GH31: α-glucosidase (EC 3.2.1.20)',\n",
       " 'GH4': 'GH4: maltose-6-phosphate glucosidase (EC 3.2.1.122)',\n",
       " 'GH43': 'GH43: β-xylosidase (EC 3.2.1.37)',\n",
       " 'GH51': 'GH51: endoglucanase (EC 3.2.1.4)',\n",
       " 'GH57': 'GH57: α-amylase (EC 3.2.1.1)',\n",
       " 'GH65': 'GH65: α,α-trehalase (EC 3.2.1.28)',\n",
       " 'GH77': 'GH77: amylomaltase or 4-α-glucanotransferase (EC 2.4.1.25)',\n",
       " 'GH78': 'GH78: α-L-rhamnosidase (EC 3.2.1.40)',\n",
       " 'GH94': 'GH94: cellobiose phosphorylase (EC 2.4.1.20)',\n",
       " 'GH95': 'GH95: α-L-fucosidase (EC 3.2.1.51)',\n",
       " 'GT2': 'GT2: cellulose synthase (EC 2.4.1.12)',\n",
       " 'GT35': 'GT35: glycogen or starch phosphorylase (EC 2.4.1.1).',\n",
       " 'GT4': 'GT4: sucrose synthase (EC 2.4.1.13)',\n",
       " 'GT5': 'GT5: UDP-Glc: glycogen glucosyltransferase (EC 2.4.1.11)',\n",
       " 'GT51': 'GT51: murein polymerase (EC 2.4.1.129). ',\n",
       " 'PL11': 'PL11: rhamnogalacturonan lyase (EC 4.2.2.-)'}"
      ]
     },
     "execution_count": 43,
     "metadata": {},
     "output_type": "execute_result"
    }
   ],
   "source": [
    "new_index_names = {}\n",
    "for k,v in names.items():\n",
    "    new_index_names[k] = \"{}: {}\".format(k, v)\n",
    "new_index_names"
   ]
  },
  {
   "cell_type": "code",
   "execution_count": 44,
   "metadata": {
    "collapsed": false
   },
   "outputs": [],
   "source": [
    "families.rename(index=new_index_names, inplace=True)\n",
    "yerr = std_err.unstack('depth').rename(index=new_index_names)"
   ]
  },
  {
   "cell_type": "code",
   "execution_count": 45,
   "metadata": {
    "collapsed": false,
    "scrolled": false
   },
   "outputs": [
    {
     "data": {
      "image/png": "[encoded data removed]",
      "text/plain": [
       "<matplotlib.figure.Figure at 0x7f7fe5975da0>"
      ]
     },
     "metadata": {},
     "output_type": "display_data"
    }
   ],
   "source": [
    "ax = (families.plot.bar(yerr=yerr, figsize=(18, 8)))\n",
    "ax.set_ylabel(\"Relative abundance (mean)\")\n",
    "ax.set_xlabel(\"Families\")\n",
    "ax.set_title(\"Families with > 1% relative abundance, std error\")\n",
    "ax.legend(loc='best', title=\"Depth\")\n",
    "!mkdir -p ../outputs/figures\n",
    "ax.figure.savefig(\"../outputs/figures/relative_abundances_1percent.svg\")\n",
    "ax.figure.savefig(\"../outputs/figures/relative_abundances_1percent.pdf\")\n",
    "ax.figure.savefig(\"../outputs/figures/relative_abundances_1percent.eps\")\n",
    "ax.figure.savefig(\"../outputs/figures/relative_abundances_1percent.png\")"
   ]
  },
  {
   "cell_type": "code",
   "execution_count": 46,
   "metadata": {
    "collapsed": false,
    "scrolled": true
   },
   "outputs": [
    {
     "data": {
      "text/html": [
       "<div>\n",
       "<table border=\"1\" class=\"dataframe\">\n",
       "  <thead>\n",
       "    <tr style=\"text-align: right;\">\n",
       "      <th></th>\n",
       "      <th>depth</th>\n",
       "      <th>family</th>\n",
       "      <th>Relative abundance (mean)</th>\n",
       "      <th>Standard deviation</th>\n",
       "    </tr>\n",
       "  </thead>\n",
       "  <tbody>\n",
       "    <tr>\n",
       "      <th>341</th>\n",
       "      <td>6</td>\n",
       "      <td>GH13</td>\n",
       "      <td>0.158536</td>\n",
       "      <td>0.028845</td>\n",
       "    </tr>\n",
       "    <tr>\n",
       "      <th>568</th>\n",
       "      <td>15</td>\n",
       "      <td>GH13</td>\n",
       "      <td>0.181635</td>\n",
       "      <td>0.022602</td>\n",
       "    </tr>\n",
       "    <tr>\n",
       "      <th>349</th>\n",
       "      <td>6</td>\n",
       "      <td>GH2</td>\n",
       "      <td>0.042359</td>\n",
       "      <td>0.013937</td>\n",
       "    </tr>\n",
       "    <tr>\n",
       "      <th>405</th>\n",
       "      <td>6</td>\n",
       "      <td>GH95</td>\n",
       "      <td>0.019691</td>\n",
       "      <td>0.012487</td>\n",
       "    </tr>\n",
       "    <tr>\n",
       "      <th>427</th>\n",
       "      <td>6</td>\n",
       "      <td>GT4</td>\n",
       "      <td>0.050476</td>\n",
       "      <td>0.011975</td>\n",
       "    </tr>\n",
       "    <tr>\n",
       "      <th>280</th>\n",
       "      <td>6</td>\n",
       "      <td>CBM48</td>\n",
       "      <td>0.050580</td>\n",
       "      <td>0.011026</td>\n",
       "    </tr>\n",
       "    <tr>\n",
       "      <th>613</th>\n",
       "      <td>15</td>\n",
       "      <td>GH57</td>\n",
       "      <td>0.034634</td>\n",
       "      <td>0.009761</td>\n",
       "    </tr>\n",
       "    <tr>\n",
       "      <th>201</th>\n",
       "      <td>2</td>\n",
       "      <td>GT35</td>\n",
       "      <td>0.071168</td>\n",
       "      <td>0.009610</td>\n",
       "    </tr>\n",
       "    <tr>\n",
       "      <th>358</th>\n",
       "      <td>6</td>\n",
       "      <td>GH3</td>\n",
       "      <td>0.044105</td>\n",
       "      <td>0.009095</td>\n",
       "    </tr>\n",
       "    <tr>\n",
       "      <th>106</th>\n",
       "      <td>2</td>\n",
       "      <td>GH13</td>\n",
       "      <td>0.127140</td>\n",
       "      <td>0.008720</td>\n",
       "    </tr>\n",
       "    <tr>\n",
       "      <th>404</th>\n",
       "      <td>6</td>\n",
       "      <td>GH94</td>\n",
       "      <td>0.030196</td>\n",
       "      <td>0.008441</td>\n",
       "    </tr>\n",
       "    <tr>\n",
       "      <th>370</th>\n",
       "      <td>6</td>\n",
       "      <td>GH43</td>\n",
       "      <td>0.013271</td>\n",
       "      <td>0.008406</td>\n",
       "    </tr>\n",
       "    <tr>\n",
       "      <th>580</th>\n",
       "      <td>15</td>\n",
       "      <td>GH2</td>\n",
       "      <td>0.045413</td>\n",
       "      <td>0.008046</td>\n",
       "    </tr>\n",
       "    <tr>\n",
       "      <th>589</th>\n",
       "      <td>15</td>\n",
       "      <td>GH3</td>\n",
       "      <td>0.035575</td>\n",
       "      <td>0.007836</td>\n",
       "    </tr>\n",
       "    <tr>\n",
       "      <th>381</th>\n",
       "      <td>6</td>\n",
       "      <td>GH57</td>\n",
       "      <td>0.023401</td>\n",
       "      <td>0.007557</td>\n",
       "    </tr>\n",
       "    <tr>\n",
       "      <th>658</th>\n",
       "      <td>15</td>\n",
       "      <td>GT4</td>\n",
       "      <td>0.061487</td>\n",
       "      <td>0.007555</td>\n",
       "    </tr>\n",
       "    <tr>\n",
       "      <th>500</th>\n",
       "      <td>15</td>\n",
       "      <td>CBM48</td>\n",
       "      <td>0.056604</td>\n",
       "      <td>0.007284</td>\n",
       "    </tr>\n",
       "    <tr>\n",
       "      <th>316</th>\n",
       "      <td>6</td>\n",
       "      <td>GH1</td>\n",
       "      <td>0.013943</td>\n",
       "      <td>0.007272</td>\n",
       "    </tr>\n",
       "    <tr>\n",
       "      <th>203</th>\n",
       "      <td>2</td>\n",
       "      <td>GT4</td>\n",
       "      <td>0.047240</td>\n",
       "      <td>0.007043</td>\n",
       "    </tr>\n",
       "    <tr>\n",
       "      <th>288</th>\n",
       "      <td>6</td>\n",
       "      <td>CBM6</td>\n",
       "      <td>0.017200</td>\n",
       "      <td>0.007028</td>\n",
       "    </tr>\n",
       "    <tr>\n",
       "      <th>665</th>\n",
       "      <td>15</td>\n",
       "      <td>GT51</td>\n",
       "      <td>0.016334</td>\n",
       "      <td>0.006872</td>\n",
       "    </tr>\n",
       "    <tr>\n",
       "      <th>342</th>\n",
       "      <td>6</td>\n",
       "      <td>GH130</td>\n",
       "      <td>0.027038</td>\n",
       "      <td>0.006460</td>\n",
       "    </tr>\n",
       "    <tr>\n",
       "      <th>540</th>\n",
       "      <td>15</td>\n",
       "      <td>GH0</td>\n",
       "      <td>0.013309</td>\n",
       "      <td>0.006415</td>\n",
       "    </tr>\n",
       "    <tr>\n",
       "      <th>415</th>\n",
       "      <td>6</td>\n",
       "      <td>GT2</td>\n",
       "      <td>0.057030</td>\n",
       "      <td>0.006400</td>\n",
       "    </tr>\n",
       "    <tr>\n",
       "      <th>315</th>\n",
       "      <td>6</td>\n",
       "      <td>GH0</td>\n",
       "      <td>0.018115</td>\n",
       "      <td>0.006214</td>\n",
       "    </tr>\n",
       "    <tr>\n",
       "      <th>338</th>\n",
       "      <td>6</td>\n",
       "      <td>GH127</td>\n",
       "      <td>0.012961</td>\n",
       "      <td>0.006149</td>\n",
       "    </tr>\n",
       "    <tr>\n",
       "      <th>635</th>\n",
       "      <td>15</td>\n",
       "      <td>GH94</td>\n",
       "      <td>0.026893</td>\n",
       "      <td>0.005727</td>\n",
       "    </tr>\n",
       "    <tr>\n",
       "      <th>387</th>\n",
       "      <td>6</td>\n",
       "      <td>GH65</td>\n",
       "      <td>0.012998</td>\n",
       "      <td>0.005691</td>\n",
       "    </tr>\n",
       "    <tr>\n",
       "      <th>40</th>\n",
       "      <td>2</td>\n",
       "      <td>CBM48</td>\n",
       "      <td>0.054062</td>\n",
       "      <td>0.005429</td>\n",
       "    </tr>\n",
       "    <tr>\n",
       "      <th>360</th>\n",
       "      <td>6</td>\n",
       "      <td>GH31</td>\n",
       "      <td>0.013511</td>\n",
       "      <td>0.005404</td>\n",
       "    </tr>\n",
       "    <tr>\n",
       "      <th>...</th>\n",
       "      <td>...</td>\n",
       "      <td>...</td>\n",
       "      <td>...</td>\n",
       "      <td>...</td>\n",
       "    </tr>\n",
       "    <tr>\n",
       "      <th>569</th>\n",
       "      <td>15</td>\n",
       "      <td>GH130</td>\n",
       "      <td>0.024083</td>\n",
       "      <td>0.003566</td>\n",
       "    </tr>\n",
       "    <tr>\n",
       "      <th>591</th>\n",
       "      <td>15</td>\n",
       "      <td>GH31</td>\n",
       "      <td>0.011886</td>\n",
       "      <td>0.003273</td>\n",
       "    </tr>\n",
       "    <tr>\n",
       "      <th>160</th>\n",
       "      <td>2</td>\n",
       "      <td>GH77</td>\n",
       "      <td>0.011886</td>\n",
       "      <td>0.003195</td>\n",
       "    </tr>\n",
       "    <tr>\n",
       "      <th>115</th>\n",
       "      <td>2</td>\n",
       "      <td>GH2</td>\n",
       "      <td>0.045911</td>\n",
       "      <td>0.003144</td>\n",
       "    </tr>\n",
       "    <tr>\n",
       "      <th>187</th>\n",
       "      <td>2</td>\n",
       "      <td>GT2</td>\n",
       "      <td>0.061418</td>\n",
       "      <td>0.003117</td>\n",
       "    </tr>\n",
       "    <tr>\n",
       "      <th>468</th>\n",
       "      <td>15</td>\n",
       "      <td>AA6</td>\n",
       "      <td>0.011180</td>\n",
       "      <td>0.003028</td>\n",
       "    </tr>\n",
       "    <tr>\n",
       "      <th>153</th>\n",
       "      <td>2</td>\n",
       "      <td>GH65</td>\n",
       "      <td>0.011890</td>\n",
       "      <td>0.002935</td>\n",
       "    </tr>\n",
       "    <tr>\n",
       "      <th>117</th>\n",
       "      <td>2</td>\n",
       "      <td>GH23</td>\n",
       "      <td>0.012476</td>\n",
       "      <td>0.002829</td>\n",
       "    </tr>\n",
       "    <tr>\n",
       "      <th>575</th>\n",
       "      <td>15</td>\n",
       "      <td>GH15</td>\n",
       "      <td>0.010995</td>\n",
       "      <td>0.002573</td>\n",
       "    </tr>\n",
       "    <tr>\n",
       "      <th>124</th>\n",
       "      <td>2</td>\n",
       "      <td>GH3</td>\n",
       "      <td>0.038381</td>\n",
       "      <td>0.002331</td>\n",
       "    </tr>\n",
       "    <tr>\n",
       "      <th>431</th>\n",
       "      <td>6</td>\n",
       "      <td>GT5</td>\n",
       "      <td>0.010505</td>\n",
       "      <td>0.002254</td>\n",
       "    </tr>\n",
       "    <tr>\n",
       "      <th>648</th>\n",
       "      <td>15</td>\n",
       "      <td>GT2</td>\n",
       "      <td>0.051463</td>\n",
       "      <td>0.002253</td>\n",
       "    </tr>\n",
       "    <tr>\n",
       "      <th>174</th>\n",
       "      <td>2</td>\n",
       "      <td>GH94</td>\n",
       "      <td>0.024944</td>\n",
       "      <td>0.002218</td>\n",
       "    </tr>\n",
       "    <tr>\n",
       "      <th>609</th>\n",
       "      <td>15</td>\n",
       "      <td>GH51</td>\n",
       "      <td>0.013888</td>\n",
       "      <td>0.002205</td>\n",
       "    </tr>\n",
       "    <tr>\n",
       "      <th>123</th>\n",
       "      <td>2</td>\n",
       "      <td>GH29</td>\n",
       "      <td>0.017082</td>\n",
       "      <td>0.002122</td>\n",
       "    </tr>\n",
       "    <tr>\n",
       "      <th>208</th>\n",
       "      <td>2</td>\n",
       "      <td>GT51</td>\n",
       "      <td>0.027500</td>\n",
       "      <td>0.002080</td>\n",
       "    </tr>\n",
       "    <tr>\n",
       "      <th>541</th>\n",
       "      <td>15</td>\n",
       "      <td>GH1</td>\n",
       "      <td>0.013782</td>\n",
       "      <td>0.001994</td>\n",
       "    </tr>\n",
       "    <tr>\n",
       "      <th>450</th>\n",
       "      <td>6</td>\n",
       "      <td>PL11</td>\n",
       "      <td>0.010870</td>\n",
       "      <td>0.001976</td>\n",
       "    </tr>\n",
       "    <tr>\n",
       "      <th>368</th>\n",
       "      <td>6</td>\n",
       "      <td>GH4</td>\n",
       "      <td>0.016809</td>\n",
       "      <td>0.001926</td>\n",
       "    </tr>\n",
       "    <tr>\n",
       "      <th>103</th>\n",
       "      <td>2</td>\n",
       "      <td>GH127</td>\n",
       "      <td>0.010259</td>\n",
       "      <td>0.001761</td>\n",
       "    </tr>\n",
       "    <tr>\n",
       "      <th>161</th>\n",
       "      <td>2</td>\n",
       "      <td>GH78</td>\n",
       "      <td>0.016659</td>\n",
       "      <td>0.001708</td>\n",
       "    </tr>\n",
       "    <tr>\n",
       "      <th>588</th>\n",
       "      <td>15</td>\n",
       "      <td>GH29</td>\n",
       "      <td>0.012711</td>\n",
       "      <td>0.001502</td>\n",
       "    </tr>\n",
       "    <tr>\n",
       "      <th>66</th>\n",
       "      <td>2</td>\n",
       "      <td>CE11</td>\n",
       "      <td>0.011316</td>\n",
       "      <td>0.001482</td>\n",
       "    </tr>\n",
       "    <tr>\n",
       "      <th>143</th>\n",
       "      <td>2</td>\n",
       "      <td>GH51</td>\n",
       "      <td>0.016409</td>\n",
       "      <td>0.001384</td>\n",
       "    </tr>\n",
       "    <tr>\n",
       "      <th>175</th>\n",
       "      <td>2</td>\n",
       "      <td>GH95</td>\n",
       "      <td>0.019648</td>\n",
       "      <td>0.001246</td>\n",
       "    </tr>\n",
       "    <tr>\n",
       "      <th>134</th>\n",
       "      <td>2</td>\n",
       "      <td>GH4</td>\n",
       "      <td>0.010870</td>\n",
       "      <td>0.000934</td>\n",
       "    </tr>\n",
       "    <tr>\n",
       "      <th>565</th>\n",
       "      <td>15</td>\n",
       "      <td>GH127</td>\n",
       "      <td>0.011477</td>\n",
       "      <td>0.000462</td>\n",
       "    </tr>\n",
       "    <tr>\n",
       "      <th>625</th>\n",
       "      <td>15</td>\n",
       "      <td>GH77</td>\n",
       "      <td>0.014546</td>\n",
       "      <td>0.000444</td>\n",
       "    </tr>\n",
       "    <tr>\n",
       "      <th>147</th>\n",
       "      <td>2</td>\n",
       "      <td>GH57</td>\n",
       "      <td>0.013689</td>\n",
       "      <td>0.000398</td>\n",
       "    </tr>\n",
       "    <tr>\n",
       "      <th>393</th>\n",
       "      <td>6</td>\n",
       "      <td>GH77</td>\n",
       "      <td>0.014078</td>\n",
       "      <td>0.000156</td>\n",
       "    </tr>\n",
       "  </tbody>\n",
       "</table>\n",
       "<p>74 rows × 4 columns</p>\n",
       "</div>"
      ],
      "text/plain": [
       "     depth family  Relative abundance (mean)  Standard deviation\n",
       "341      6   GH13                   0.158536            0.028845\n",
       "568     15   GH13                   0.181635            0.022602\n",
       "349      6    GH2                   0.042359            0.013937\n",
       "405      6   GH95                   0.019691            0.012487\n",
       "427      6    GT4                   0.050476            0.011975\n",
       "280      6  CBM48                   0.050580            0.011026\n",
       "613     15   GH57                   0.034634            0.009761\n",
       "201      2   GT35                   0.071168            0.009610\n",
       "358      6    GH3                   0.044105            0.009095\n",
       "106      2   GH13                   0.127140            0.008720\n",
       "404      6   GH94                   0.030196            0.008441\n",
       "370      6   GH43                   0.013271            0.008406\n",
       "580     15    GH2                   0.045413            0.008046\n",
       "589     15    GH3                   0.035575            0.007836\n",
       "381      6   GH57                   0.023401            0.007557\n",
       "658     15    GT4                   0.061487            0.007555\n",
       "500     15  CBM48                   0.056604            0.007284\n",
       "316      6    GH1                   0.013943            0.007272\n",
       "203      2    GT4                   0.047240            0.007043\n",
       "288      6   CBM6                   0.017200            0.007028\n",
       "665     15   GT51                   0.016334            0.006872\n",
       "342      6  GH130                   0.027038            0.006460\n",
       "540     15    GH0                   0.013309            0.006415\n",
       "415      6    GT2                   0.057030            0.006400\n",
       "315      6    GH0                   0.018115            0.006214\n",
       "338      6  GH127                   0.012961            0.006149\n",
       "635     15   GH94                   0.026893            0.005727\n",
       "387      6   GH65                   0.012998            0.005691\n",
       "40       2  CBM48                   0.054062            0.005429\n",
       "360      6   GH31                   0.013511            0.005404\n",
       "..     ...    ...                        ...                 ...\n",
       "569     15  GH130                   0.024083            0.003566\n",
       "591     15   GH31                   0.011886            0.003273\n",
       "160      2   GH77                   0.011886            0.003195\n",
       "115      2    GH2                   0.045911            0.003144\n",
       "187      2    GT2                   0.061418            0.003117\n",
       "468     15    AA6                   0.011180            0.003028\n",
       "153      2   GH65                   0.011890            0.002935\n",
       "117      2   GH23                   0.012476            0.002829\n",
       "575     15   GH15                   0.010995            0.002573\n",
       "124      2    GH3                   0.038381            0.002331\n",
       "431      6    GT5                   0.010505            0.002254\n",
       "648     15    GT2                   0.051463            0.002253\n",
       "174      2   GH94                   0.024944            0.002218\n",
       "609     15   GH51                   0.013888            0.002205\n",
       "123      2   GH29                   0.017082            0.002122\n",
       "208      2   GT51                   0.027500            0.002080\n",
       "541     15    GH1                   0.013782            0.001994\n",
       "450      6   PL11                   0.010870            0.001976\n",
       "368      6    GH4                   0.016809            0.001926\n",
       "103      2  GH127                   0.010259            0.001761\n",
       "161      2   GH78                   0.016659            0.001708\n",
       "588     15   GH29                   0.012711            0.001502\n",
       "66       2   CE11                   0.011316            0.001482\n",
       "143      2   GH51                   0.016409            0.001384\n",
       "175      2   GH95                   0.019648            0.001246\n",
       "134      2    GH4                   0.010870            0.000934\n",
       "565     15  GH127                   0.011477            0.000462\n",
       "625     15   GH77                   0.014546            0.000444\n",
       "147      2   GH57                   0.013689            0.000398\n",
       "393      6   GH77                   0.014078            0.000156\n",
       "\n",
       "[74 rows x 4 columns]"
      ]
     },
     "execution_count": 46,
     "metadata": {},
     "output_type": "execute_result"
    }
   ],
   "source": [
    "st = pd.DataFrame({\"Relative abundance (mean)\": m,\n",
    "                   \"Standard deviation\": std_err}).reset_index()\n",
    "s1p = st[st[\"Relative abundance (mean)\"] > 0.01].sort_values(by=\"Standard deviation\", ascending=False)\n",
    "s1p"
   ]
  },
  {
   "cell_type": "markdown",
   "metadata": {},
   "source": [
    "## Saving data to disk"
   ]
  },
  {
   "cell_type": "code",
   "execution_count": 47,
   "metadata": {
    "collapsed": false
   },
   "outputs": [],
   "source": [
    "!mkdir -p ../outputs/abundances\n",
    "s1p.to_csv(\"../outputs/abundances/relative_abundances_1percent.csv\")"
   ]
  },
  {
   "cell_type": "code",
   "execution_count": 48,
   "metadata": {
    "collapsed": false
   },
   "outputs": [],
   "source": [
    "frel.to_csv(\"../outputs/abundances/relative_abundances_all.csv\")"
   ]
  },
  {
   "cell_type": "markdown",
   "metadata": {},
   "source": [
    "Not saving `samples_df` because it is too big (~250 MB)"
   ]
  },
  {
   "cell_type": "code",
   "execution_count": 49,
   "metadata": {
    "collapsed": false,
    "scrolled": true
   },
   "outputs": [
    {
     "name": "stdout",
     "output_type": "stream",
     "text": [
      "<class 'pandas.core.frame.DataFrame'>\n",
      "Int64Index: 2101301 entries, 0 to 142042\n",
      "Data columns (total 15 columns):\n",
      "query               object\n",
      "subject             object\n",
      "percent_id          float64\n",
      "alignment_length    int64\n",
      "mismatches          int64\n",
      "gap_openings        int64\n",
      "q_start             int64\n",
      "q_end               int64\n",
      "s_start             int64\n",
      "s_end               int64\n",
      "e_value             float64\n",
      "bit_score           float64\n",
      "family              object\n",
      "rep                 int64\n",
      "depth               int64\n",
      "dtypes: float64(3), int64(9), object(3)\n",
      "memory usage: 256.5+ MB\n"
     ]
    }
   ],
   "source": [
    "samples_df.info()"
   ]
  }
 ],
 "metadata": {
  "kernelspec": {
   "display_name": "Python 3",
   "language": "python",
   "name": "python3"
  },
  "language_info": {
   "codemirror_mode": {
    "name": "ipython",
    "version": 3
   },
   "file_extension": ".py",
   "mimetype": "text/x-python",
   "name": "python",
   "nbconvert_exporter": "python",
   "pygments_lexer": "ipython3",
   "version": "3.4.3"
  },
  "nav_menu": {},
  "toc": {
   "navigate_menu": true,
   "number_sections": false,
   "sideBar": true,
   "threshold": 6,
   "toc_cell": true,
   "toc_section_display": "block",
   "toc_window_display": true
  }
 },
 "nbformat": 4,
 "nbformat_minor": 1
}
